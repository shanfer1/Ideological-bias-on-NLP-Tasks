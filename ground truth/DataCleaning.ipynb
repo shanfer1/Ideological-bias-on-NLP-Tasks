{
 "cells": [],
 "metadata": {
  "kernelspec": {
   "display_name": "Python 3.10.7 64-bit",
   "language": "python",
   "name": "python3"
  },
  "language_info": {
   "name": "python",
   "version": "3.10.7"
  },
  "orig_nbformat": 4,
  "vscode": {
   "interpreter": {
    "hash": "e3a430ce3e785eaed4e3af6085b2c31bfb94cdf8f087fec0080a3cf792164695"
   }
  }
 },
 "nbformat": 4,
 "nbformat_minor": 2
}
