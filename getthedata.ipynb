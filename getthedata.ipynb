{
 "cells": [
  {
   "cell_type": "code",
   "execution_count": 133,
   "metadata": {},
   "outputs": [],
   "source": [
    "import tweepy\n",
    "import pandas as pd"
   ]
  },
  {
   "cell_type": "code",
   "execution_count": 141,
   "metadata": {},
   "outputs": [],
   "source": [
    "def get_api():\n",
    "    api_key = '8RQ5xPiDzAg1duMVpj9pWYEdX'\n",
    "    api_key_secret = 'BqfcElqH5G6yAFHafuMQWO5ljp8Bosa402DzldWgc3mzCOSrSB'\n",
    "    access_token = '1570146620653850629-erndFgwUuLXuK8prEhhrpkqlBUICih'\n",
    "    access_token_secret = 'hwjy8IzsfECPVje0SAzdg3YorFifjAZbpBBgmLxBxnGVc'\n",
    "    auth = tweepy.OAuthHandler(api_key, api_key_secret)\n",
    "    auth.set_access_token(access_token, access_token_secret)\n",
    "    return tweepy.API(auth)"
   ]
  },
  {
   "cell_type": "code",
   "execution_count": 142,
   "metadata": {},
   "outputs": [],
   "source": [
    "cols=['screenName','description','location','text']"
   ]
  },
  {
   "cell_type": "code",
   "execution_count": 143,
   "metadata": {},
   "outputs": [],
   "source": [
    "# def make_queries(username, word):\n",
    "#     query = 'from:'+username+ \" \"+word +\" OR #FIFAWorldCupQatar2022\"\n",
    "#     print(query)\n",
    "#     return query\n",
    "    "
   ]
  },
  {
   "cell_type": "code",
   "execution_count": 144,
   "metadata": {},
   "outputs": [],
   "source": [
    "def collect_User_TimelineData(username):\n",
    "    api = get_api()\n",
    "    # tweet_hashtags=[]\n",
    "    db = pd.DataFrame(columns=cols, dtype=object)\n",
    "    for tweet in tweepy.Cursor(api.user_timeline, screen_name='@CNN', tweet_mode='extended').items(10000):\n",
    "        # if len(tweet._json['entities']['hashtags']) > 0:\n",
    "            # for hashtag in tweet._json['entities']['hashtags']:\n",
    "        # for word in keywords:\n",
    "        #     # print(hashtag['text'])\n",
    "        #     if word in tweet.full_text:\n",
    "        username = tweet.user.screen_name\n",
    "        description = tweet.user.description\n",
    "        location = tweet.user.location\n",
    "        tweet_text = tweet.full_text\n",
    "        ith_tweet = [username, description,\n",
    "                location, tweet_text]\n",
    "        db.loc[len(db)] = ith_tweet\n",
    "    \n",
    "            #         tweet_hashtags.append(hashtag['text'])\n",
    "            # # tweet_hashtags = [hashtag['text'] for hashtag in tweet._json['entities']['hashtags'] if hashtag['text'] in search_tags]\n",
    "            # if(len(tweet_hashtags)>0):\n",
    "            #     print(tweet._json)\n",
    "    \n",
    "    # res = make_queries(username, word)\n",
    "    # print(res)\n",
    "    # tweets = tweepy.Cursor(api.search_tweets,\n",
    "    #                             q=res, lang=\"en\",\n",
    "    #                             tweet_mode='extended').items(1000)\n",
    "    # i = 1\n",
    "    \n",
    "    # for tweet in tweets:\n",
    "        \n",
    "    return db"
   ]
  },
  {
   "cell_type": "code",
   "execution_count": 145,
   "metadata": {},
   "outputs": [],
   "source": [
    "df=collect_User_TimelineData('CNN')\n"
   ]
  },
  {
   "cell_type": "code",
   "execution_count": 146,
   "metadata": {},
   "outputs": [],
   "source": [
    "df.to_csv('10000_data.csv')"
   ]
  },
  {
   "cell_type": "code",
   "execution_count": 148,
   "metadata": {},
   "outputs": [
    {
     "data": {
      "text/plain": [
       "(3250, 4)"
      ]
     },
     "execution_count": 148,
     "metadata": {},
     "output_type": "execute_result"
    }
   ],
   "source": [
    "df.shape"
   ]
  },
  {
   "cell_type": "code",
   "execution_count": null,
   "metadata": {},
   "outputs": [],
   "source": [
    "search_tags = ['cricket','football','hockey','foxsports','sports','BCCI','Ronaldo','Manchester United','Wimbledon','NBA','chess','fifa','worldcup']"
   ]
  },
  {
   "cell_type": "code",
   "execution_count": null,
   "metadata": {},
   "outputs": [],
   "source": []
  }
 ],
 "metadata": {
  "kernelspec": {
   "display_name": "Python 3.10.7 64-bit",
   "language": "python",
   "name": "python3"
  },
  "language_info": {
   "codemirror_mode": {
    "name": "ipython",
    "version": 3
   },
   "file_extension": ".py",
   "mimetype": "text/x-python",
   "name": "python",
   "nbconvert_exporter": "python",
   "pygments_lexer": "ipython3",
   "version": "3.10.7"
  },
  "orig_nbformat": 4,
  "vscode": {
   "interpreter": {
    "hash": "e3a430ce3e785eaed4e3af6085b2c31bfb94cdf8f087fec0080a3cf792164695"
   }
  }
 },
 "nbformat": 4,
 "nbformat_minor": 2
}
