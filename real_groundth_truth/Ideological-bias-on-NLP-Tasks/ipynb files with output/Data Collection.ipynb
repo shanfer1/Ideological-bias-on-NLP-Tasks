{
  "cells": [
    {
      "cell_type": "code",
      "execution_count": 6,
      "metadata": {
        "id": "oXvouFJkK5TF"
      },
      "outputs": [],
      "source": [
        "import tweepy\n",
        "import pandas as pd"
      ]
    },
    {
      "cell_type": "code",
      "execution_count": 7,
      "metadata": {
        "id": "tUIufXncK57e"
      },
      "outputs": [],
      "source": [
        "def get_api():\n",
        "    api_key = '8RQ5xPiDzAg1duMVpj9pWYEdX'\n",
        "    api_key_secret = 'BqfcElqH5G6yAFHafuMQWO5ljp8Bosa402DzldWgc3mzCOSrSB'\n",
        "    access_token = '1570146620653850629-erndFgwUuLXuK8prEhhrpkqlBUICih'\n",
        "    access_token_secret = 'hwjy8IzsfECPVje0SAzdg3YorFifjAZbpBBgmLxBxnGVc'\n",
        "    auth = tweepy.OAuthHandler(api_key, api_key_secret)\n",
        "    auth.set_access_token(access_token, access_token_secret)\n",
        "    return tweepy.API(auth,wait_on_rate_limit=True)"
      ]
    },
    {
      "cell_type": "code",
      "execution_count": 8,
      "metadata": {
        "id": "VOx2RCDrK7yH"
      },
      "outputs": [],
      "source": [
        "cols=['screenName','description','location','text']"
      ]
    },
    {
      "cell_type": "code",
      "execution_count": 9,
      "metadata": {
        "id": "S_SwJaNqK9GW"
      },
      "outputs": [],
      "source": [
        "def collect_User_TimelineData(username,start_date,end_date):\n",
        "  api = get_api()\n",
        "  db = pd.DataFrame(columns=cols, dtype=object)\n",
        "  for tweet in tweepy.Cursor(api.user_timeline, screen_name=username, since=start_date,until=end_date,tweet_mode='extended').items(10000):\n",
        "      username = tweet.user.screen_name\n",
        "      description = tweet.user.description\n",
        "      location = tweet.user.location\n",
        "      tweet_text = tweet.full_text\n",
        "      ith_tweet = [username, description,\n",
        "              location, tweet_text]\n",
        "      db.loc[len(db)] = ith_tweet\n",
        "  return db"
      ]
    },
    {
      "cell_type": "code",
      "execution_count": 10,
      "metadata": {
        "id": "MfquFQDqPhAQ"
      },
      "outputs": [],
      "source": [
        "dates=[('2012-01-01','2012-12-31'),('2013-01-01','2013-12-31'),('2014-01-01','2014-12-31'),('2015-01-01','2015-12-31'),('2016-01-01','2016-12-31'),('2017-01-01','2017-12-31'),('2018-01-01','2018-12-31'),('2019-01-01','2019-12-31'),('2020-01-01','2020-12-31'),('2021-01-01','2021-12-31'),('2022-01-01','2022-11-01')]"
      ]
    },
    {
      "cell_type": "code",
      "execution_count": 11,
      "metadata": {
        "id": "ybrdGqOeLAXD"
      },
      "outputs": [],
      "source": [
        "df= pd.DataFrame(columns=cols, dtype=object)\n",
        "for x in dates:\n",
        "  df=df.append(collect_User_TimelineData('CNN',x[0],x[1]),ignore_index=True)"
      ]
    },
    {
      "cell_type": "code",
      "execution_count": 12,
      "metadata": {
        "id": "jO4HYZHHLBv5"
      },
      "outputs": [],
      "source": [
        "df.to_csv('CNN_1000_data_with_dates2.csv')"
      ]
    },
    {
      "cell_type": "code",
      "execution_count": 13,
      "metadata": {
        "colab": {
          "base_uri": "https://localhost:8080/"
        },
        "id": "IkTReHV4LIUN",
        "outputId": "ce6a4552-42a2-4447-b711-f2f2fe968e53"
      },
      "outputs": [
        {
          "data": {
            "text/plain": [
              "(26160, 4)"
            ]
          },
          "execution_count": 13,
          "metadata": {},
          "output_type": "execute_result"
        }
      ],
      "source": [
        "df.shape"
      ]
    },
    {
      "cell_type": "code",
      "execution_count": 14,
      "metadata": {
        "id": "111OWTH6ZGin"
      },
      "outputs": [],
      "source": [
        "df_fox= pd.DataFrame(columns=cols, dtype=object)\n",
        "for x in dates:\n",
        "  df_fox=df_fox.append(collect_User_TimelineData('FoxNews',x[0],x[1]),ignore_index=True)"
      ]
    },
    {
      "cell_type": "code",
      "execution_count": 15,
      "metadata": {
        "id": "HcnNMFbSa5P1"
      },
      "outputs": [],
      "source": [
        "df_fox.to_csv('FOX_NEWS_1000_data_with_dates2.csv')"
      ]
    },
    {
      "cell_type": "code",
      "execution_count": 16,
      "metadata": {
        "colab": {
          "base_uri": "https://localhost:8080/"
        },
        "id": "p7e7Wf6La61C",
        "outputId": "2deb6842-3d82-4756-ee89-e5ae59d4d95e"
      },
      "outputs": [
        {
          "data": {
            "text/plain": [
              "(35746, 4)"
            ]
          },
          "execution_count": 16,
          "metadata": {},
          "output_type": "execute_result"
        }
      ],
      "source": [
        "df_fox.shape"
      ]
    },
    {
      "cell_type": "code",
      "execution_count": 17,
      "metadata": {
        "id": "RBav4iPEsF6C"
      },
      "outputs": [],
      "source": [
        "df_Reuters= pd.DataFrame(columns=cols, dtype=object)\n",
        "for x in dates:\n",
        "  df_Reuters=df_Reuters.append(collect_User_TimelineData('Reuters',x[0],x[1]),ignore_index=True)"
      ]
    },
    {
      "cell_type": "code",
      "execution_count": 18,
      "metadata": {
        "id": "IrQN_w84sHez"
      },
      "outputs": [],
      "source": [
        "df_Reuters.to_csv('Reuters_1000_data_with_dates2.csv')"
      ]
    },
    {
      "cell_type": "code",
      "execution_count": 19,
      "metadata": {
        "colab": {
          "base_uri": "https://localhost:8080/"
        },
        "id": "6OgYgJOPsSCa",
        "outputId": "00d20e29-6121-4493-ed3b-f5fa84568233"
      },
      "outputs": [
        {
          "data": {
            "text/plain": [
              "(27134, 4)"
            ]
          },
          "execution_count": 19,
          "metadata": {},
          "output_type": "execute_result"
        }
      ],
      "source": [
        "df_Reuters.shape"
      ]
    }
  ],
  "metadata": {
    "colab": {
      "provenance": []
    },
    "kernelspec": {
      "display_name": "Python 3.10.7 64-bit",
      "language": "python",
      "name": "python3"
    },
    "language_info": {
      "name": "python",
      "version": "3.10.7"
    },
    "vscode": {
      "interpreter": {
        "hash": "e3a430ce3e785eaed4e3af6085b2c31bfb94cdf8f087fec0080a3cf792164695"
      }
    }
  },
  "nbformat": 4,
  "nbformat_minor": 0
}
