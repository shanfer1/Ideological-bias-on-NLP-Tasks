{
 "cells": [
  {
   "cell_type": "code",
   "execution_count": 2,
   "metadata": {},
   "outputs": [],
   "source": [
    "import os\n",
    "import sys\n",
    "import numpy as np\n",
    "import keras\n",
    "from keras.preprocessing.text import Tokenizer\n",
    "from keras.utils import to_categorical\n",
    "from keras_preprocessing.sequence import pad_sequences\n",
    "from keras.layers import Activation, Conv2D, Input, Embedding, Reshape, MaxPool2D, Concatenate, Flatten, Dropout, Dense, Conv1D\n",
    "from keras.layers import MaxPool1D\n",
    "from keras.models import Model\n",
    "from keras.callbacks import ModelCheckpoint\n",
    "from keras.optimizers import Adam\n",
    "import pandas as pd"
   ]
  },
  {
   "cell_type": "code",
   "execution_count": null,
   "metadata": {},
   "outputs": [],
   "source": [
    "# TEXT_DATA_DIR = r'../input/20-newsgroup-original/20_newsgroup/20_newsgroup/'\n",
    "#the path for Glove embeddings\n",
    "GLOVE_DIR = r'./../tmp/glove/'\n",
    "# make the max word length to be constant\n",
    "MAX_WORDS = 10000\n",
    "MAX_SEQUENCE_LENGTH = 1000\n",
    "# the percentage of train test split to be applied\n",
    "VALIDATION_SPLIT = 0.50\n",
    "# the dimension of vectors to be used\n",
    "EMBEDDING_DIM = 100\n",
    "# filter sizes of the different conv layers \n",
    "filter_sizes = [3,4,5]\n",
    "num_filters = 512\n",
    "embedding_dim = 100\n",
    "# dropout probability\n",
    "drop = 0.5\n",
    "batch_size = 30\n",
    "epochs = 50"
   ]
  },
  {
   "cell_type": "code",
   "execution_count": 120,
   "metadata": {},
   "outputs": [],
   "source": [
    "df_cnn=pd.read_csv('./../data/preprocessed_nov_23_df_cnn_topic_combined.csv')\n",
    "texts_cnn=df_cnn[\"clean_text\"].tolist()\n",
    "labels_cnn=df_cnn[\"topicEncoded\"].to_list() "
   ]
  },
  {
   "cell_type": "code",
   "execution_count": 121,
   "metadata": {},
   "outputs": [
    {
     "name": "stdout",
     "output_type": "stream",
     "text": [
      "1517\n",
      "1517\n"
     ]
    }
   ],
   "source": [
    "print(len(texts_cnn))\n",
    "print(len(labels_cnn))"
   ]
  },
  {
   "cell_type": "code",
   "execution_count": 122,
   "metadata": {},
   "outputs": [
    {
     "name": "stdout",
     "output_type": "stream",
     "text": [
      "unique words : 6326\n",
      "Shape of data tensor: (1517, 1000)\n",
      "Shape of label tensor: (1517, 5)\n",
      "[[1. 0. 0. 0. 0.]\n",
      " [1. 0. 0. 0. 0.]\n",
      " [1. 0. 0. 0. 0.]\n",
      " ...\n",
      " [0. 0. 0. 1. 0.]\n",
      " [0. 0. 0. 1. 0.]\n",
      " [0. 0. 0. 1. 0.]]\n"
     ]
    }
   ],
   "source": [
    "tokenizer  = Tokenizer(num_words = MAX_WORDS)\n",
    "tokenizer.fit_on_texts(texts_cnn)\n",
    "sequences =  tokenizer.texts_to_sequences(texts_cnn)\n",
    "\n",
    "word_index = tokenizer.word_index\n",
    "print(\"unique words : {}\".format(len(word_index)))\n",
    "\n",
    "data = pad_sequences(sequences, maxlen=MAX_SEQUENCE_LENGTH)\n",
    "\n",
    "labels_cnn = to_categorical(np.asarray(labels_cnn))\n",
    "print('Shape of data tensor:', data.shape)\n",
    "print('Shape of label tensor:', labels_cnn.shape)\n",
    "print(labels_cnn)"
   ]
  },
  {
   "cell_type": "code",
   "execution_count": 123,
   "metadata": {},
   "outputs": [
    {
     "name": "stdout",
     "output_type": "stream",
     "text": [
      "[   0    1    2 ... 1514 1515 1516]\n"
     ]
    }
   ],
   "source": [
    "indices = np.arange(data.shape[0])\n",
    "print(indices)\n",
    "np.random.shuffle(indices)\n",
    "data = data[indices]\n",
    "labels = labels_cnn[indices]"
   ]
  },
  {
   "cell_type": "code",
   "execution_count": 124,
   "metadata": {},
   "outputs": [],
   "source": [
    "from sklearn.model_selection import train_test_split\n",
    "X_train, X_rem, y_train, y_rem = train_test_split(data,labels, train_size=0.7)"
   ]
  },
  {
   "cell_type": "code",
   "execution_count": 125,
   "metadata": {},
   "outputs": [],
   "source": [
    "\n",
    "nb_validation_samples = int(VALIDATION_SPLIT * X_rem.shape[0])\n",
    "x_test = X_rem[:-nb_validation_samples]\n",
    "y_test = y_rem[:-nb_validation_samples]\n",
    "x_val = X_rem[-nb_validation_samples:]\n",
    "y_val = y_rem[-nb_validation_samples:]"
   ]
  },
  {
   "cell_type": "code",
   "execution_count": 126,
   "metadata": {},
   "outputs": [
    {
     "name": "stdout",
     "output_type": "stream",
     "text": [
      "(1061, 1000)\n",
      "(1061, 5)\n",
      "(228, 1000)\n",
      "(228, 5)\n",
      "(228, 1000)\n",
      "(228, 5)\n"
     ]
    }
   ],
   "source": [
    "print(X_train.shape)\n",
    "print(y_train.shape)\n",
    "print(x_test.shape)\n",
    "print(y_test.shape)\n",
    "print(x_val.shape)\n",
    "print(y_val.shape)"
   ]
  },
  {
   "cell_type": "code",
   "execution_count": null,
   "metadata": {},
   "outputs": [],
   "source": [
    "import os\n",
    "import zipfile\n",
    "with zipfile.ZipFile('glove.6B.zip', 'r') as zip_ref:\n",
    "    zip_ref.extractall('.//tmp/glove')"
   ]
  },
  {
   "cell_type": "code",
   "execution_count": 127,
   "metadata": {},
   "outputs": [
    {
     "name": "stdout",
     "output_type": "stream",
     "text": [
      "Found 400000 word vectors.\n"
     ]
    }
   ],
   "source": [
    "embeddings_index = {}\n",
    "f = open(os.path.join(GLOVE_DIR, 'glove.6B.100d.txt'),encoding=\"utf8\")\n",
    "for line in f:\n",
    "    values = line.split()\n",
    "    word = values[0]\n",
    "    coefs = np.asarray(values[1:], dtype='float32')\n",
    "    embeddings_index[word] = coefs\n",
    "f.close()\n",
    "\n",
    "print('Found %s word vectors.' % len(embeddings_index))"
   ]
  },
  {
   "cell_type": "code",
   "execution_count": 128,
   "metadata": {},
   "outputs": [],
   "source": [
    "embedding_matrix = np.zeros((len(word_index) + 1, EMBEDDING_DIM))\n",
    "for word, i in word_index.items():\n",
    "    embedding_vector = embeddings_index.get(word)\n",
    "    if embedding_vector is not None:\n",
    "        # words not found in embedding index will be all-zeros.\n",
    "        embedding_matrix[i] = embedding_vector"
   ]
  },
  {
   "cell_type": "code",
   "execution_count": 129,
   "metadata": {},
   "outputs": [],
   "source": [
    "from keras.layers import Embedding\n",
    "\n",
    "embedding_layer = Embedding(len(word_index) + 1,\n",
    "                            EMBEDDING_DIM,\n",
    "                            weights=[embedding_matrix],\n",
    "                            input_length=MAX_SEQUENCE_LENGTH,\n",
    "                            trainable=False)"
   ]
  },
  {
   "cell_type": "code",
   "execution_count": 130,
   "metadata": {},
   "outputs": [
    {
     "name": "stdout",
     "output_type": "stream",
     "text": [
      "(None, 1000, 100)\n",
      "(None, 1000, 100, 1)\n",
      "Model: \"model_6\"\n",
      "__________________________________________________________________________________________________\n",
      " Layer (type)                   Output Shape         Param #     Connected to                     \n",
      "==================================================================================================\n",
      " input_7 (InputLayer)           [(None, 1000)]       0           []                               \n",
      "                                                                                                  \n",
      " embedding_5 (Embedding)        (None, 1000, 100)    632700      ['input_7[0][0]']                \n",
      "                                                                                                  \n",
      " reshape_6 (Reshape)            (None, 1000, 100, 1  0           ['embedding_5[0][0]']            \n",
      "                                )                                                                 \n",
      "                                                                                                  \n",
      " conv2d_18 (Conv2D)             (None, 998, 1, 512)  154112      ['reshape_6[0][0]']              \n",
      "                                                                                                  \n",
      " conv2d_19 (Conv2D)             (None, 997, 1, 512)  205312      ['reshape_6[0][0]']              \n",
      "                                                                                                  \n",
      " conv2d_20 (Conv2D)             (None, 996, 1, 512)  256512      ['reshape_6[0][0]']              \n",
      "                                                                                                  \n",
      " max_pooling2d_18 (MaxPooling2D  (None, 1, 1, 512)   0           ['conv2d_18[0][0]']              \n",
      " )                                                                                                \n",
      "                                                                                                  \n",
      " max_pooling2d_19 (MaxPooling2D  (None, 1, 1, 512)   0           ['conv2d_19[0][0]']              \n",
      " )                                                                                                \n",
      "                                                                                                  \n",
      " max_pooling2d_20 (MaxPooling2D  (None, 1, 1, 512)   0           ['conv2d_20[0][0]']              \n",
      " )                                                                                                \n",
      "                                                                                                  \n",
      " concatenate_6 (Concatenate)    (None, 3, 1, 512)    0           ['max_pooling2d_18[0][0]',       \n",
      "                                                                  'max_pooling2d_19[0][0]',       \n",
      "                                                                  'max_pooling2d_20[0][0]']       \n",
      "                                                                                                  \n",
      " flatten_6 (Flatten)            (None, 1536)         0           ['concatenate_6[0][0]']          \n",
      "                                                                                                  \n",
      " dropout_6 (Dropout)            (None, 1536)         0           ['flatten_6[0][0]']              \n",
      "                                                                                                  \n",
      " dense_6 (Dense)                (None, 5)            7685        ['dropout_6[0][0]']              \n",
      "                                                                                                  \n",
      "==================================================================================================\n",
      "Total params: 1,256,321\n",
      "Trainable params: 623,621\n",
      "Non-trainable params: 632,700\n",
      "__________________________________________________________________________________________________\n"
     ]
    },
    {
     "name": "stderr",
     "output_type": "stream",
     "text": [
      "c:\\Users\\mmajeed2\\AppData\\Local\\Programs\\Python\\Python310\\lib\\site-packages\\keras\\optimizers\\optimizer_v2\\adam.py:114: UserWarning: The `lr` argument is deprecated, use `learning_rate` instead.\n",
      "  super().__init__(name, **kwargs)\n"
     ]
    }
   ],
   "source": [
    "inputs = Input(shape=(MAX_SEQUENCE_LENGTH,), dtype='int32')\n",
    "embedding = embedding_layer(inputs)\n",
    "\n",
    "print(embedding.shape)\n",
    "reshape = Reshape((MAX_SEQUENCE_LENGTH,EMBEDDING_DIM,1))(embedding)\n",
    "print(reshape.shape)\n",
    "\n",
    "conv_0 = Conv2D(num_filters, kernel_size=(filter_sizes[0], embedding_dim), padding='valid', kernel_initializer='normal', activation='relu')(reshape)\n",
    "conv_1 = Conv2D(num_filters, kernel_size=(filter_sizes[1], embedding_dim), padding='valid', kernel_initializer='normal', activation='relu')(reshape)\n",
    "conv_2 = Conv2D(num_filters, kernel_size=(filter_sizes[2], embedding_dim), padding='valid', kernel_initializer='normal', activation='relu')(reshape)\n",
    "\n",
    "maxpool_0 = MaxPool2D(pool_size=(MAX_SEQUENCE_LENGTH - filter_sizes[0] + 1, 1), strides=(1,1), padding='valid')(conv_0)\n",
    "maxpool_1 = MaxPool2D(pool_size=(MAX_SEQUENCE_LENGTH - filter_sizes[1] + 1, 1), strides=(1,1), padding='valid')(conv_1)\n",
    "maxpool_2 = MaxPool2D(pool_size=(MAX_SEQUENCE_LENGTH - filter_sizes[2] + 1, 1), strides=(1,1), padding='valid')(conv_2)\n",
    "\n",
    "concatenated_tensor = Concatenate(axis=1)([maxpool_0, maxpool_1, maxpool_2])\n",
    "flatten = Flatten()(concatenated_tensor)\n",
    "dropout = Dropout(drop)(flatten)\n",
    "output = Dense(units=5, activation='softmax')(dropout)\n",
    "\n",
    "# this creates a model that includes\n",
    "model = Model(inputs=inputs, outputs=output)\n",
    "\n",
    "checkpoint = ModelCheckpoint('weights_cnn_sentece.hdf5', monitor='val_acc', verbose=1, save_best_only=True, mode='auto')\n",
    "adam = Adam(lr=1e-4, beta_1=0.9, beta_2=0.999, epsilon=1e-08, decay=0.0)\n",
    "\n",
    "model.compile(optimizer=adam, loss='categorical_crossentropy', metrics=['accuracy'])\n",
    "model.summary()\n"
   ]
  },
  {
   "cell_type": "code",
   "execution_count": 131,
   "metadata": {},
   "outputs": [
    {
     "name": "stdout",
     "output_type": "stream",
     "text": [
      "Traning Model...\n",
      "Epoch 1/50\n",
      "36/36 [==============================] - ETA: 0s - loss: 1.6446 - accuracy: 0.4477WARNING:tensorflow:Can save best model only with val_acc available, skipping.\n",
      "36/36 [==============================] - 24s 659ms/step - loss: 1.6446 - accuracy: 0.4477 - val_loss: 1.1074 - val_accuracy: 0.5702\n",
      "Epoch 2/50\n",
      "36/36 [==============================] - ETA: 0s - loss: 1.3267 - accuracy: 0.5344WARNING:tensorflow:Can save best model only with val_acc available, skipping.\n",
      "36/36 [==============================] - 34s 944ms/step - loss: 1.3267 - accuracy: 0.5344 - val_loss: 0.9581 - val_accuracy: 0.6272\n",
      "Epoch 3/50\n",
      "36/36 [==============================] - ETA: 0s - loss: 1.1008 - accuracy: 0.5853WARNING:tensorflow:Can save best model only with val_acc available, skipping.\n",
      "36/36 [==============================] - 34s 938ms/step - loss: 1.1008 - accuracy: 0.5853 - val_loss: 0.8485 - val_accuracy: 0.6579\n",
      "Epoch 4/50\n",
      "36/36 [==============================] - ETA: 0s - loss: 1.0194 - accuracy: 0.6192WARNING:tensorflow:Can save best model only with val_acc available, skipping.\n",
      "36/36 [==============================] - 31s 855ms/step - loss: 1.0194 - accuracy: 0.6192 - val_loss: 0.7548 - val_accuracy: 0.7632\n",
      "Epoch 5/50\n",
      "36/36 [==============================] - ETA: 0s - loss: 0.8527 - accuracy: 0.7031WARNING:tensorflow:Can save best model only with val_acc available, skipping.\n",
      "36/36 [==============================] - 29s 799ms/step - loss: 0.8527 - accuracy: 0.7031 - val_loss: 0.7338 - val_accuracy: 0.7500\n",
      "Epoch 6/50\n",
      "36/36 [==============================] - ETA: 0s - loss: 0.7810 - accuracy: 0.7201WARNING:tensorflow:Can save best model only with val_acc available, skipping.\n",
      "36/36 [==============================] - 34s 941ms/step - loss: 0.7810 - accuracy: 0.7201 - val_loss: 0.6774 - val_accuracy: 0.7675\n",
      "Epoch 7/50\n",
      "36/36 [==============================] - ETA: 0s - loss: 0.6484 - accuracy: 0.7700WARNING:tensorflow:Can save best model only with val_acc available, skipping.\n",
      "36/36 [==============================] - 30s 831ms/step - loss: 0.6484 - accuracy: 0.7700 - val_loss: 0.6231 - val_accuracy: 0.8246\n",
      "Epoch 8/50\n",
      "36/36 [==============================] - ETA: 0s - loss: 0.6485 - accuracy: 0.7879WARNING:tensorflow:Can save best model only with val_acc available, skipping.\n",
      "36/36 [==============================] - 30s 842ms/step - loss: 0.6485 - accuracy: 0.7879 - val_loss: 0.6081 - val_accuracy: 0.8246\n",
      "Epoch 9/50\n",
      "36/36 [==============================] - ETA: 0s - loss: 0.5263 - accuracy: 0.8209WARNING:tensorflow:Can save best model only with val_acc available, skipping.\n",
      "36/36 [==============================] - 30s 841ms/step - loss: 0.5263 - accuracy: 0.8209 - val_loss: 0.5791 - val_accuracy: 0.8333\n",
      "Epoch 10/50\n",
      "36/36 [==============================] - ETA: 0s - loss: 0.5050 - accuracy: 0.8181WARNING:tensorflow:Can save best model only with val_acc available, skipping.\n",
      "36/36 [==============================] - 31s 868ms/step - loss: 0.5050 - accuracy: 0.8181 - val_loss: 0.5521 - val_accuracy: 0.8509\n",
      "Epoch 11/50\n",
      "36/36 [==============================] - ETA: 0s - loss: 0.4837 - accuracy: 0.8351WARNING:tensorflow:Can save best model only with val_acc available, skipping.\n",
      "36/36 [==============================] - 27s 762ms/step - loss: 0.4837 - accuracy: 0.8351 - val_loss: 0.5315 - val_accuracy: 0.8509\n",
      "Epoch 12/50\n",
      "36/36 [==============================] - ETA: 0s - loss: 0.4313 - accuracy: 0.8464WARNING:tensorflow:Can save best model only with val_acc available, skipping.\n",
      "36/36 [==============================] - 31s 863ms/step - loss: 0.4313 - accuracy: 0.8464 - val_loss: 0.5216 - val_accuracy: 0.8553\n",
      "Epoch 13/50\n",
      "36/36 [==============================] - ETA: 0s - loss: 0.4148 - accuracy: 0.8615WARNING:tensorflow:Can save best model only with val_acc available, skipping.\n",
      "36/36 [==============================] - 30s 821ms/step - loss: 0.4148 - accuracy: 0.8615 - val_loss: 0.5107 - val_accuracy: 0.8553\n",
      "Epoch 14/50\n",
      "36/36 [==============================] - ETA: 0s - loss: 0.3819 - accuracy: 0.8784WARNING:tensorflow:Can save best model only with val_acc available, skipping.\n",
      "36/36 [==============================] - 30s 836ms/step - loss: 0.3819 - accuracy: 0.8784 - val_loss: 0.4917 - val_accuracy: 0.8640\n",
      "Epoch 15/50\n",
      "36/36 [==============================] - ETA: 0s - loss: 0.3697 - accuracy: 0.8841WARNING:tensorflow:Can save best model only with val_acc available, skipping.\n",
      "36/36 [==============================] - 28s 785ms/step - loss: 0.3697 - accuracy: 0.8841 - val_loss: 0.4792 - val_accuracy: 0.8640\n",
      "Epoch 16/50\n",
      "36/36 [==============================] - ETA: 0s - loss: 0.3216 - accuracy: 0.9020WARNING:tensorflow:Can save best model only with val_acc available, skipping.\n",
      "36/36 [==============================] - 31s 849ms/step - loss: 0.3216 - accuracy: 0.9020 - val_loss: 0.4728 - val_accuracy: 0.8596\n",
      "Epoch 17/50\n",
      "36/36 [==============================] - ETA: 0s - loss: 0.2909 - accuracy: 0.9171WARNING:tensorflow:Can save best model only with val_acc available, skipping.\n",
      "36/36 [==============================] - 30s 840ms/step - loss: 0.2909 - accuracy: 0.9171 - val_loss: 0.4722 - val_accuracy: 0.8596\n",
      "Epoch 18/50\n",
      "36/36 [==============================] - ETA: 0s - loss: 0.3008 - accuracy: 0.9076WARNING:tensorflow:Can save best model only with val_acc available, skipping.\n",
      "36/36 [==============================] - 30s 842ms/step - loss: 0.3008 - accuracy: 0.9076 - val_loss: 0.4545 - val_accuracy: 0.8684\n",
      "Epoch 19/50\n",
      "36/36 [==============================] - ETA: 0s - loss: 0.2659 - accuracy: 0.9189WARNING:tensorflow:Can save best model only with val_acc available, skipping.\n",
      "36/36 [==============================] - 15s 419ms/step - loss: 0.2659 - accuracy: 0.9189 - val_loss: 0.4464 - val_accuracy: 0.8684\n",
      "Epoch 20/50\n",
      "36/36 [==============================] - ETA: 0s - loss: 0.2416 - accuracy: 0.9378WARNING:tensorflow:Can save best model only with val_acc available, skipping.\n",
      "36/36 [==============================] - 15s 425ms/step - loss: 0.2416 - accuracy: 0.9378 - val_loss: 0.4403 - val_accuracy: 0.8728\n",
      "Epoch 21/50\n",
      "36/36 [==============================] - ETA: 0s - loss: 0.2468 - accuracy: 0.9303WARNING:tensorflow:Can save best model only with val_acc available, skipping.\n",
      "36/36 [==============================] - 15s 430ms/step - loss: 0.2468 - accuracy: 0.9303 - val_loss: 0.4282 - val_accuracy: 0.8684\n",
      "Epoch 22/50\n",
      "36/36 [==============================] - ETA: 0s - loss: 0.2166 - accuracy: 0.9434WARNING:tensorflow:Can save best model only with val_acc available, skipping.\n",
      "36/36 [==============================] - 16s 449ms/step - loss: 0.2166 - accuracy: 0.9434 - val_loss: 0.4306 - val_accuracy: 0.8772\n",
      "Epoch 23/50\n",
      "36/36 [==============================] - ETA: 0s - loss: 0.2042 - accuracy: 0.9510WARNING:tensorflow:Can save best model only with val_acc available, skipping.\n",
      "36/36 [==============================] - 20s 551ms/step - loss: 0.2042 - accuracy: 0.9510 - val_loss: 0.4236 - val_accuracy: 0.8772\n",
      "Epoch 24/50\n",
      "36/36 [==============================] - ETA: 0s - loss: 0.1925 - accuracy: 0.9434WARNING:tensorflow:Can save best model only with val_acc available, skipping.\n",
      "36/36 [==============================] - 22s 604ms/step - loss: 0.1925 - accuracy: 0.9434 - val_loss: 0.4423 - val_accuracy: 0.8640\n",
      "Epoch 25/50\n",
      "36/36 [==============================] - ETA: 0s - loss: 0.1893 - accuracy: 0.9529WARNING:tensorflow:Can save best model only with val_acc available, skipping.\n",
      "36/36 [==============================] - 22s 626ms/step - loss: 0.1893 - accuracy: 0.9529 - val_loss: 0.4106 - val_accuracy: 0.8772\n",
      "Epoch 26/50\n",
      "36/36 [==============================] - ETA: 0s - loss: 0.1745 - accuracy: 0.9595WARNING:tensorflow:Can save best model only with val_acc available, skipping.\n",
      "36/36 [==============================] - 22s 607ms/step - loss: 0.1745 - accuracy: 0.9595 - val_loss: 0.4161 - val_accuracy: 0.8860\n",
      "Epoch 27/50\n",
      "36/36 [==============================] - ETA: 0s - loss: 0.1591 - accuracy: 0.9632WARNING:tensorflow:Can save best model only with val_acc available, skipping.\n",
      "36/36 [==============================] - 19s 516ms/step - loss: 0.1591 - accuracy: 0.9632 - val_loss: 0.4176 - val_accuracy: 0.8684\n",
      "Epoch 28/50\n",
      "36/36 [==============================] - ETA: 0s - loss: 0.1559 - accuracy: 0.9642WARNING:tensorflow:Can save best model only with val_acc available, skipping.\n",
      "36/36 [==============================] - 20s 551ms/step - loss: 0.1559 - accuracy: 0.9642 - val_loss: 0.4096 - val_accuracy: 0.8772\n",
      "Epoch 29/50\n",
      "36/36 [==============================] - ETA: 0s - loss: 0.1395 - accuracy: 0.9680WARNING:tensorflow:Can save best model only with val_acc available, skipping.\n",
      "36/36 [==============================] - 22s 600ms/step - loss: 0.1395 - accuracy: 0.9680 - val_loss: 0.3998 - val_accuracy: 0.8772\n",
      "Epoch 30/50\n",
      "36/36 [==============================] - ETA: 0s - loss: 0.1273 - accuracy: 0.9736WARNING:tensorflow:Can save best model only with val_acc available, skipping.\n",
      "36/36 [==============================] - 19s 522ms/step - loss: 0.1273 - accuracy: 0.9736 - val_loss: 0.4052 - val_accuracy: 0.8772\n",
      "Epoch 31/50\n",
      "36/36 [==============================] - ETA: 0s - loss: 0.1449 - accuracy: 0.9632WARNING:tensorflow:Can save best model only with val_acc available, skipping.\n",
      "36/36 [==============================] - 22s 598ms/step - loss: 0.1449 - accuracy: 0.9632 - val_loss: 0.4170 - val_accuracy: 0.8728\n",
      "Epoch 32/50\n",
      "36/36 [==============================] - ETA: 0s - loss: 0.1277 - accuracy: 0.9727WARNING:tensorflow:Can save best model only with val_acc available, skipping.\n",
      "36/36 [==============================] - 21s 595ms/step - loss: 0.1277 - accuracy: 0.9727 - val_loss: 0.3962 - val_accuracy: 0.8816\n",
      "Epoch 33/50\n",
      "36/36 [==============================] - ETA: 0s - loss: 0.1172 - accuracy: 0.9802WARNING:tensorflow:Can save best model only with val_acc available, skipping.\n",
      "36/36 [==============================] - 20s 549ms/step - loss: 0.1172 - accuracy: 0.9802 - val_loss: 0.4083 - val_accuracy: 0.8772\n",
      "Epoch 34/50\n",
      "36/36 [==============================] - ETA: 0s - loss: 0.1224 - accuracy: 0.9708WARNING:tensorflow:Can save best model only with val_acc available, skipping.\n",
      "36/36 [==============================] - 23s 630ms/step - loss: 0.1224 - accuracy: 0.9708 - val_loss: 0.3947 - val_accuracy: 0.8816\n",
      "Epoch 35/50\n",
      "36/36 [==============================] - ETA: 0s - loss: 0.0979 - accuracy: 0.9811WARNING:tensorflow:Can save best model only with val_acc available, skipping.\n",
      "36/36 [==============================] - 19s 532ms/step - loss: 0.0979 - accuracy: 0.9811 - val_loss: 0.3941 - val_accuracy: 0.8816\n",
      "Epoch 36/50\n",
      "36/36 [==============================] - ETA: 0s - loss: 0.1055 - accuracy: 0.9821WARNING:tensorflow:Can save best model only with val_acc available, skipping.\n",
      "36/36 [==============================] - 22s 602ms/step - loss: 0.1055 - accuracy: 0.9821 - val_loss: 0.4031 - val_accuracy: 0.8772\n",
      "Epoch 37/50\n",
      "36/36 [==============================] - ETA: 0s - loss: 0.0996 - accuracy: 0.9840WARNING:tensorflow:Can save best model only with val_acc available, skipping.\n",
      "36/36 [==============================] - 21s 580ms/step - loss: 0.0996 - accuracy: 0.9840 - val_loss: 0.3823 - val_accuracy: 0.8816\n",
      "Epoch 38/50\n",
      "36/36 [==============================] - ETA: 0s - loss: 0.0890 - accuracy: 0.9887WARNING:tensorflow:Can save best model only with val_acc available, skipping.\n",
      "36/36 [==============================] - 20s 552ms/step - loss: 0.0890 - accuracy: 0.9887 - val_loss: 0.4024 - val_accuracy: 0.8816\n",
      "Epoch 39/50\n",
      "36/36 [==============================] - ETA: 0s - loss: 0.0895 - accuracy: 0.9849WARNING:tensorflow:Can save best model only with val_acc available, skipping.\n",
      "36/36 [==============================] - 22s 605ms/step - loss: 0.0895 - accuracy: 0.9849 - val_loss: 0.3918 - val_accuracy: 0.8816\n",
      "Epoch 40/50\n",
      "36/36 [==============================] - ETA: 0s - loss: 0.0798 - accuracy: 0.9896WARNING:tensorflow:Can save best model only with val_acc available, skipping.\n",
      "36/36 [==============================] - 20s 545ms/step - loss: 0.0798 - accuracy: 0.9896 - val_loss: 0.3744 - val_accuracy: 0.8860\n",
      "Epoch 41/50\n",
      "36/36 [==============================] - ETA: 0s - loss: 0.0804 - accuracy: 0.9859WARNING:tensorflow:Can save best model only with val_acc available, skipping.\n",
      "36/36 [==============================] - 21s 592ms/step - loss: 0.0804 - accuracy: 0.9859 - val_loss: 0.3924 - val_accuracy: 0.8772\n",
      "Epoch 42/50\n",
      "36/36 [==============================] - ETA: 0s - loss: 0.0733 - accuracy: 0.9906WARNING:tensorflow:Can save best model only with val_acc available, skipping.\n",
      "36/36 [==============================] - 21s 578ms/step - loss: 0.0733 - accuracy: 0.9906 - val_loss: 0.3760 - val_accuracy: 0.8816\n",
      "Epoch 43/50\n",
      "36/36 [==============================] - ETA: 0s - loss: 0.0726 - accuracy: 0.9877WARNING:tensorflow:Can save best model only with val_acc available, skipping.\n",
      "36/36 [==============================] - 22s 607ms/step - loss: 0.0726 - accuracy: 0.9877 - val_loss: 0.3753 - val_accuracy: 0.8860\n",
      "Epoch 44/50\n",
      "36/36 [==============================] - ETA: 0s - loss: 0.0654 - accuracy: 0.9925WARNING:tensorflow:Can save best model only with val_acc available, skipping.\n",
      "36/36 [==============================] - 20s 560ms/step - loss: 0.0654 - accuracy: 0.9925 - val_loss: 0.3749 - val_accuracy: 0.8991\n",
      "Epoch 45/50\n",
      "36/36 [==============================] - ETA: 0s - loss: 0.0611 - accuracy: 0.9962WARNING:tensorflow:Can save best model only with val_acc available, skipping.\n",
      "36/36 [==============================] - 21s 576ms/step - loss: 0.0611 - accuracy: 0.9962 - val_loss: 0.3834 - val_accuracy: 0.8860\n",
      "Epoch 46/50\n",
      "36/36 [==============================] - ETA: 0s - loss: 0.0630 - accuracy: 0.9934WARNING:tensorflow:Can save best model only with val_acc available, skipping.\n",
      "36/36 [==============================] - 22s 611ms/step - loss: 0.0630 - accuracy: 0.9934 - val_loss: 0.3837 - val_accuracy: 0.8816\n",
      "Epoch 47/50\n",
      "36/36 [==============================] - ETA: 0s - loss: 0.0704 - accuracy: 0.9868WARNING:tensorflow:Can save best model only with val_acc available, skipping.\n",
      "36/36 [==============================] - 21s 587ms/step - loss: 0.0704 - accuracy: 0.9868 - val_loss: 0.3654 - val_accuracy: 0.8816\n",
      "Epoch 48/50\n",
      "36/36 [==============================] - ETA: 0s - loss: 0.0572 - accuracy: 0.9943WARNING:tensorflow:Can save best model only with val_acc available, skipping.\n",
      "36/36 [==============================] - 22s 603ms/step - loss: 0.0572 - accuracy: 0.9943 - val_loss: 0.3903 - val_accuracy: 0.8772\n",
      "Epoch 49/50\n",
      "36/36 [==============================] - ETA: 0s - loss: 0.0527 - accuracy: 0.9962WARNING:tensorflow:Can save best model only with val_acc available, skipping.\n",
      "36/36 [==============================] - 21s 587ms/step - loss: 0.0527 - accuracy: 0.9962 - val_loss: 0.3903 - val_accuracy: 0.8947\n",
      "Epoch 50/50\n",
      "36/36 [==============================] - ETA: 0s - loss: 0.0508 - accuracy: 0.9962WARNING:tensorflow:Can save best model only with val_acc available, skipping.\n",
      "36/36 [==============================] - 22s 602ms/step - loss: 0.0508 - accuracy: 0.9962 - val_loss: 0.3813 - val_accuracy: 0.8947\n"
     ]
    },
    {
     "data": {
      "text/plain": [
       "<keras.callbacks.History at 0x197ac8fbc40>"
      ]
     },
     "execution_count": 131,
     "metadata": {},
     "output_type": "execute_result"
    }
   ],
   "source": [
    "print(\"Traning Model...\")\n",
    "model.fit(X_train, y_train, batch_size=batch_size, epochs=epochs, verbose=1, callbacks=[checkpoint], validation_data=(x_val, y_val))"
   ]
  },
  {
   "cell_type": "markdown",
   "metadata": {},
   "source": [
    "# Training and Testing on Left"
   ]
  },
  {
   "cell_type": "code",
   "execution_count": 134,
   "metadata": {},
   "outputs": [
    {
     "name": "stdout",
     "output_type": "stream",
     "text": [
      "8/8 - 1s - loss: 0.3551 - accuracy: 0.8860 - 1s/epoch - 126ms/step\n",
      "Test Accuracy for training and testing on the cnn dataset: 88.596493\n"
     ]
    }
   ],
   "source": [
    "test_loss, test_acc = model.evaluate(x_test,  y_test, verbose=2)\n",
    "print('Test Accuracy for training and testing on the cnn dataset: %f' % (test_acc*100))"
   ]
  },
  {
   "cell_type": "markdown",
   "metadata": {},
   "source": [
    "# Training on left and testing it on right"
   ]
  },
  {
   "cell_type": "code",
   "execution_count": 138,
   "metadata": {},
   "outputs": [],
   "source": [
    "df_fox=pd.read_csv('./real_groundth_truth/preprocessed_nov_23_df_fox_topic_combined.csv')\n",
    "texts_fox=df_fox[\"clean_text\"].tolist()\n",
    "labels_fox=df_fox[\"topicEncoded\"].to_list()\n",
    "\n",
    "df_reuters=pd.read_csv('./real_groundth_truth/preprocessed_nov_23_df_reuters_topic_combined.csv')\n",
    "texts_reuters=df_reuters[\"clean_text\"].tolist()\n",
    "labels_reuters=df_reuters[\"topicEncoded\"].to_list()"
   ]
  },
  {
   "cell_type": "code",
   "execution_count": 139,
   "metadata": {},
   "outputs": [
    {
     "name": "stdout",
     "output_type": "stream",
     "text": [
      "unique words : 5376\n",
      "Shape of data tensor: (1584, 1000)\n",
      "Shape of label tensor: (1584, 5)\n",
      "[[1. 0. 0. 0. 0.]\n",
      " [1. 0. 0. 0. 0.]\n",
      " [1. 0. 0. 0. 0.]\n",
      " ...\n",
      " [0. 0. 0. 1. 0.]\n",
      " [0. 0. 0. 1. 0.]\n",
      " [0. 0. 0. 1. 0.]]\n"
     ]
    }
   ],
   "source": [
    "tokenizer  = Tokenizer(num_words = MAX_WORDS)\n",
    "tokenizer.fit_on_texts(texts_fox)\n",
    "sequences =  tokenizer.texts_to_sequences(texts_fox)\n",
    "\n",
    "word_index = tokenizer.word_index\n",
    "print(\"unique words : {}\".format(len(word_index)))\n",
    "\n",
    "data = pad_sequences(sequences, maxlen=MAX_SEQUENCE_LENGTH)\n",
    "\n",
    "labels_fox = to_categorical(np.asarray(labels_fox))\n",
    "print('Shape of data tensor:', data.shape)\n",
    "print('Shape of label tensor:', labels_fox.shape)\n",
    "print(labels_fox)"
   ]
  },
  {
   "cell_type": "code",
   "execution_count": 140,
   "metadata": {},
   "outputs": [],
   "source": [
    "x_test=data\n",
    "y_test=labels_fox"
   ]
  },
  {
   "cell_type": "code",
   "execution_count": 141,
   "metadata": {},
   "outputs": [
    {
     "name": "stdout",
     "output_type": "stream",
     "text": [
      "50/50 - 8s - loss: 1.4853 - accuracy: 0.5808 - 8s/epoch - 150ms/step\n"
     ]
    }
   ],
   "source": [
    "test_loss, test_acc = model.evaluate(x_test,  y_test, verbose=2)"
   ]
  },
  {
   "cell_type": "markdown",
   "metadata": {},
   "source": [
    "# Training and testing on right data"
   ]
  },
  {
   "cell_type": "code",
   "execution_count": 142,
   "metadata": {},
   "outputs": [],
   "source": [
    "df_fox=pd.read_csv('./real_groundth_truth/preprocessed_nov_23_df_fox_topic_combined.csv')\n",
    "texts_fox=df_fox[\"clean_text\"].tolist()\n",
    "labels_fox=df_fox[\"topicEncoded\"].to_list()"
   ]
  },
  {
   "cell_type": "code",
   "execution_count": 143,
   "metadata": {},
   "outputs": [
    {
     "name": "stdout",
     "output_type": "stream",
     "text": [
      "unique words : 5376\n",
      "Shape of data tensor: (1584, 1000)\n",
      "Shape of label tensor: (1584, 5)\n",
      "[[1. 0. 0. 0. 0.]\n",
      " [1. 0. 0. 0. 0.]\n",
      " [1. 0. 0. 0. 0.]\n",
      " ...\n",
      " [0. 0. 0. 1. 0.]\n",
      " [0. 0. 0. 1. 0.]\n",
      " [0. 0. 0. 1. 0.]]\n"
     ]
    }
   ],
   "source": [
    "tokenizer  = Tokenizer(num_words = MAX_WORDS)\n",
    "tokenizer.fit_on_texts(texts_fox)\n",
    "sequences =  tokenizer.texts_to_sequences(texts_fox)\n",
    "\n",
    "word_index = tokenizer.word_index\n",
    "print(\"unique words : {}\".format(len(word_index)))\n",
    "\n",
    "data = pad_sequences(sequences, maxlen=MAX_SEQUENCE_LENGTH)\n",
    "\n",
    "labels_fox = to_categorical(np.asarray(labels_fox))\n",
    "print('Shape of data tensor:', data.shape)\n",
    "print('Shape of label tensor:', labels_fox.shape)\n",
    "print(labels_fox)"
   ]
  },
  {
   "cell_type": "code",
   "execution_count": 144,
   "metadata": {},
   "outputs": [
    {
     "name": "stdout",
     "output_type": "stream",
     "text": [
      "[   0    1    2 ... 1581 1582 1583]\n"
     ]
    }
   ],
   "source": [
    "indices = np.arange(data.shape[0])\n",
    "print(indices)\n",
    "np.random.shuffle(indices)\n",
    "data = data[indices]\n",
    "labels = labels_fox[indices]"
   ]
  },
  {
   "cell_type": "code",
   "execution_count": 145,
   "metadata": {},
   "outputs": [],
   "source": [
    "from sklearn.model_selection import train_test_split\n",
    "X_train, X_rem, y_train, y_rem = train_test_split(data,labels, train_size=0.7)"
   ]
  },
  {
   "cell_type": "code",
   "execution_count": 146,
   "metadata": {},
   "outputs": [],
   "source": [
    "nb_validation_samples = int(VALIDATION_SPLIT * X_rem.shape[0])\n",
    "x_test = X_rem[:-nb_validation_samples]\n",
    "y_test = y_rem[:-nb_validation_samples]\n",
    "x_val = X_rem[-nb_validation_samples:]\n",
    "y_val = y_rem[-nb_validation_samples:]"
   ]
  },
  {
   "cell_type": "code",
   "execution_count": 147,
   "metadata": {},
   "outputs": [
    {
     "name": "stdout",
     "output_type": "stream",
     "text": [
      "(1108, 1000)\n",
      "(1108, 5)\n",
      "(238, 1000)\n",
      "(238, 5)\n",
      "(238, 1000)\n",
      "(238, 5)\n"
     ]
    }
   ],
   "source": [
    "print(X_train.shape)\n",
    "print(y_train.shape)\n",
    "print(x_test.shape)\n",
    "print(y_test.shape)\n",
    "print(x_val.shape)\n",
    "print(y_val.shape)"
   ]
  },
  {
   "cell_type": "code",
   "execution_count": 148,
   "metadata": {},
   "outputs": [
    {
     "name": "stdout",
     "output_type": "stream",
     "text": [
      "Found 400000 word vectors.\n"
     ]
    }
   ],
   "source": [
    "embeddings_index = {}\n",
    "f = open(os.path.join(GLOVE_DIR, 'glove.6B.100d.txt'),encoding=\"utf8\")\n",
    "for line in f:\n",
    "    values = line.split()\n",
    "    word = values[0]\n",
    "    coefs = np.asarray(values[1:], dtype='float32')\n",
    "    embeddings_index[word] = coefs\n",
    "f.close()\n",
    "\n",
    "print('Found %s word vectors.' % len(embeddings_index))"
   ]
  },
  {
   "cell_type": "code",
   "execution_count": 149,
   "metadata": {},
   "outputs": [],
   "source": [
    "embedding_matrix = np.zeros((len(word_index) + 1, EMBEDDING_DIM))\n",
    "for word, i in word_index.items():\n",
    "    embedding_vector = embeddings_index.get(word)\n",
    "    if embedding_vector is not None:\n",
    "        # words not found in embedding index will be all-zeros.\n",
    "        embedding_matrix[i] = embedding_vector"
   ]
  },
  {
   "cell_type": "code",
   "execution_count": null,
   "metadata": {},
   "outputs": [],
   "source": [
    "from keras.layers import Embedding\n",
    "\n",
    "embedding_layer = Embedding(len(word_index) + 1,\n",
    "                            EMBEDDING_DIM,\n",
    "                            weights=[embedding_matrix],\n",
    "                            input_length=MAX_SEQUENCE_LENGTH,\n",
    "                            trainable=False)"
   ]
  },
  {
   "cell_type": "code",
   "execution_count": 150,
   "metadata": {},
   "outputs": [
    {
     "name": "stdout",
     "output_type": "stream",
     "text": [
      "(None, 1000, 100)\n",
      "(None, 1000, 100, 1)\n",
      "Model: \"model_7\"\n",
      "__________________________________________________________________________________________________\n",
      " Layer (type)                   Output Shape         Param #     Connected to                     \n",
      "==================================================================================================\n",
      " input_8 (InputLayer)           [(None, 1000)]       0           []                               \n",
      "                                                                                                  \n",
      " embedding_5 (Embedding)        (None, 1000, 100)    632700      ['input_8[0][0]']                \n",
      "                                                                                                  \n",
      " reshape_7 (Reshape)            (None, 1000, 100, 1  0           ['embedding_5[1][0]']            \n",
      "                                )                                                                 \n",
      "                                                                                                  \n",
      " conv2d_21 (Conv2D)             (None, 998, 1, 512)  154112      ['reshape_7[0][0]']              \n",
      "                                                                                                  \n",
      " conv2d_22 (Conv2D)             (None, 997, 1, 512)  205312      ['reshape_7[0][0]']              \n",
      "                                                                                                  \n",
      " conv2d_23 (Conv2D)             (None, 996, 1, 512)  256512      ['reshape_7[0][0]']              \n",
      "                                                                                                  \n",
      " max_pooling2d_21 (MaxPooling2D  (None, 1, 1, 512)   0           ['conv2d_21[0][0]']              \n",
      " )                                                                                                \n",
      "                                                                                                  \n",
      " max_pooling2d_22 (MaxPooling2D  (None, 1, 1, 512)   0           ['conv2d_22[0][0]']              \n",
      " )                                                                                                \n",
      "                                                                                                  \n",
      " max_pooling2d_23 (MaxPooling2D  (None, 1, 1, 512)   0           ['conv2d_23[0][0]']              \n",
      " )                                                                                                \n",
      "                                                                                                  \n",
      " concatenate_7 (Concatenate)    (None, 3, 1, 512)    0           ['max_pooling2d_21[0][0]',       \n",
      "                                                                  'max_pooling2d_22[0][0]',       \n",
      "                                                                  'max_pooling2d_23[0][0]']       \n",
      "                                                                                                  \n",
      " flatten_7 (Flatten)            (None, 1536)         0           ['concatenate_7[0][0]']          \n",
      "                                                                                                  \n",
      " dropout_7 (Dropout)            (None, 1536)         0           ['flatten_7[0][0]']              \n",
      "                                                                                                  \n",
      " dense_7 (Dense)                (None, 5)            7685        ['dropout_7[0][0]']              \n",
      "                                                                                                  \n",
      "==================================================================================================\n",
      "Total params: 1,256,321\n",
      "Trainable params: 623,621\n",
      "Non-trainable params: 632,700\n",
      "__________________________________________________________________________________________________\n"
     ]
    },
    {
     "name": "stderr",
     "output_type": "stream",
     "text": [
      "c:\\Users\\mmajeed2\\AppData\\Local\\Programs\\Python\\Python310\\lib\\site-packages\\keras\\optimizers\\optimizer_v2\\adam.py:114: UserWarning: The `lr` argument is deprecated, use `learning_rate` instead.\n",
      "  super().__init__(name, **kwargs)\n"
     ]
    }
   ],
   "source": [
    "inputs = Input(shape=(MAX_SEQUENCE_LENGTH,), dtype='int32')\n",
    "embedding = embedding_layer(inputs)\n",
    "\n",
    "print(embedding.shape)\n",
    "reshape = Reshape((MAX_SEQUENCE_LENGTH,EMBEDDING_DIM,1))(embedding)\n",
    "print(reshape.shape)\n",
    "\n",
    "conv_0 = Conv2D(num_filters, kernel_size=(filter_sizes[0], embedding_dim), padding='valid', kernel_initializer='normal', activation='relu')(reshape)\n",
    "conv_1 = Conv2D(num_filters, kernel_size=(filter_sizes[1], embedding_dim), padding='valid', kernel_initializer='normal', activation='relu')(reshape)\n",
    "conv_2 = Conv2D(num_filters, kernel_size=(filter_sizes[2], embedding_dim), padding='valid', kernel_initializer='normal', activation='relu')(reshape)\n",
    "\n",
    "maxpool_0 = MaxPool2D(pool_size=(MAX_SEQUENCE_LENGTH - filter_sizes[0] + 1, 1), strides=(1,1), padding='valid')(conv_0)\n",
    "maxpool_1 = MaxPool2D(pool_size=(MAX_SEQUENCE_LENGTH - filter_sizes[1] + 1, 1), strides=(1,1), padding='valid')(conv_1)\n",
    "maxpool_2 = MaxPool2D(pool_size=(MAX_SEQUENCE_LENGTH - filter_sizes[2] + 1, 1), strides=(1,1), padding='valid')(conv_2)\n",
    "\n",
    "concatenated_tensor = Concatenate(axis=1)([maxpool_0, maxpool_1, maxpool_2])\n",
    "flatten = Flatten()(concatenated_tensor)\n",
    "dropout = Dropout(drop)(flatten)\n",
    "output = Dense(units=5, activation='softmax')(dropout)\n",
    "\n",
    "# this creates a model that includes\n",
    "model = Model(inputs=inputs, outputs=output)\n",
    "\n",
    "checkpoint = ModelCheckpoint('weights_cnn_sentece.hdf5', monitor='val_acc', verbose=1, save_best_only=True, mode='auto')\n",
    "adam = Adam(lr=1e-4, beta_1=0.9, beta_2=0.999, epsilon=1e-08, decay=0.0)\n",
    "\n",
    "model.compile(optimizer=adam, loss='categorical_crossentropy', metrics=['accuracy'])\n",
    "model.summary()\n"
   ]
  },
  {
   "cell_type": "code",
   "execution_count": 151,
   "metadata": {},
   "outputs": [
    {
     "name": "stdout",
     "output_type": "stream",
     "text": [
      "Traning Model...\n",
      "Epoch 1/50\n",
      "37/37 [==============================] - ETA: 0s - loss: 1.3697 - accuracy: 0.5830WARNING:tensorflow:Can save best model only with val_acc available, skipping.\n",
      "37/37 [==============================] - 31s 816ms/step - loss: 1.3697 - accuracy: 0.5830 - val_loss: 1.1226 - val_accuracy: 0.6345\n",
      "Epoch 2/50\n",
      "37/37 [==============================] - ETA: 0s - loss: 1.1263 - accuracy: 0.6507WARNING:tensorflow:Can save best model only with val_acc available, skipping.\n",
      "37/37 [==============================] - 32s 865ms/step - loss: 1.1263 - accuracy: 0.6507 - val_loss: 1.0613 - val_accuracy: 0.6345\n",
      "Epoch 3/50\n",
      "37/37 [==============================] - ETA: 0s - loss: 1.0753 - accuracy: 0.6336WARNING:tensorflow:Can save best model only with val_acc available, skipping.\n",
      "37/37 [==============================] - 25s 675ms/step - loss: 1.0753 - accuracy: 0.6336 - val_loss: 0.9731 - val_accuracy: 0.6429\n",
      "Epoch 4/50\n",
      "37/37 [==============================] - ETA: 0s - loss: 0.9366 - accuracy: 0.6832WARNING:tensorflow:Can save best model only with val_acc available, skipping.\n",
      "37/37 [==============================] - 16s 443ms/step - loss: 0.9366 - accuracy: 0.6832 - val_loss: 0.9350 - val_accuracy: 0.6429\n",
      "Epoch 5/50\n",
      "37/37 [==============================] - ETA: 0s - loss: 0.8541 - accuracy: 0.6968WARNING:tensorflow:Can save best model only with val_acc available, skipping.\n",
      "37/37 [==============================] - 17s 450ms/step - loss: 0.8541 - accuracy: 0.6968 - val_loss: 0.8828 - val_accuracy: 0.6555\n",
      "Epoch 6/50\n",
      "37/37 [==============================] - ETA: 0s - loss: 0.7559 - accuracy: 0.7211WARNING:tensorflow:Can save best model only with val_acc available, skipping.\n",
      "37/37 [==============================] - 17s 457ms/step - loss: 0.7559 - accuracy: 0.7211 - val_loss: 0.8620 - val_accuracy: 0.6639\n",
      "Epoch 7/50\n",
      "37/37 [==============================] - ETA: 0s - loss: 0.7028 - accuracy: 0.7491WARNING:tensorflow:Can save best model only with val_acc available, skipping.\n",
      "37/37 [==============================] - 20s 542ms/step - loss: 0.7028 - accuracy: 0.7491 - val_loss: 0.8348 - val_accuracy: 0.6765\n",
      "Epoch 8/50\n",
      "37/37 [==============================] - ETA: 0s - loss: 0.6690 - accuracy: 0.7681WARNING:tensorflow:Can save best model only with val_acc available, skipping.\n",
      "37/37 [==============================] - 23s 612ms/step - loss: 0.6690 - accuracy: 0.7681 - val_loss: 0.7847 - val_accuracy: 0.6975\n",
      "Epoch 9/50\n",
      "37/37 [==============================] - ETA: 0s - loss: 0.5783 - accuracy: 0.7960WARNING:tensorflow:Can save best model only with val_acc available, skipping.\n",
      "37/37 [==============================] - 23s 621ms/step - loss: 0.5783 - accuracy: 0.7960 - val_loss: 0.8228 - val_accuracy: 0.6849\n",
      "Epoch 10/50\n",
      "37/37 [==============================] - ETA: 0s - loss: 0.5565 - accuracy: 0.7951WARNING:tensorflow:Can save best model only with val_acc available, skipping.\n",
      "37/37 [==============================] - 23s 627ms/step - loss: 0.5565 - accuracy: 0.7951 - val_loss: 0.7654 - val_accuracy: 0.7017\n",
      "Epoch 11/50\n",
      "37/37 [==============================] - ETA: 0s - loss: 0.5229 - accuracy: 0.8141WARNING:tensorflow:Can save best model only with val_acc available, skipping.\n",
      "37/37 [==============================] - 24s 662ms/step - loss: 0.5229 - accuracy: 0.8141 - val_loss: 0.7872 - val_accuracy: 0.7017\n",
      "Epoch 12/50\n",
      "37/37 [==============================] - ETA: 0s - loss: 0.4764 - accuracy: 0.8457WARNING:tensorflow:Can save best model only with val_acc available, skipping.\n",
      "37/37 [==============================] - 23s 623ms/step - loss: 0.4764 - accuracy: 0.8457 - val_loss: 0.7560 - val_accuracy: 0.7059\n",
      "Epoch 13/50\n",
      "37/37 [==============================] - ETA: 0s - loss: 0.4356 - accuracy: 0.8511WARNING:tensorflow:Can save best model only with val_acc available, skipping.\n",
      "37/37 [==============================] - 23s 625ms/step - loss: 0.4356 - accuracy: 0.8511 - val_loss: 0.7299 - val_accuracy: 0.7143\n",
      "Epoch 14/50\n",
      "37/37 [==============================] - ETA: 0s - loss: 0.4014 - accuracy: 0.8655WARNING:tensorflow:Can save best model only with val_acc available, skipping.\n",
      "37/37 [==============================] - 23s 614ms/step - loss: 0.4014 - accuracy: 0.8655 - val_loss: 0.7418 - val_accuracy: 0.7143\n",
      "Epoch 15/50\n",
      "37/37 [==============================] - ETA: 0s - loss: 0.4109 - accuracy: 0.8718WARNING:tensorflow:Can save best model only with val_acc available, skipping.\n",
      "37/37 [==============================] - 23s 618ms/step - loss: 0.4109 - accuracy: 0.8718 - val_loss: 0.7016 - val_accuracy: 0.7269\n",
      "Epoch 16/50\n",
      "37/37 [==============================] - ETA: 0s - loss: 0.3542 - accuracy: 0.8899WARNING:tensorflow:Can save best model only with val_acc available, skipping.\n",
      "37/37 [==============================] - 23s 634ms/step - loss: 0.3542 - accuracy: 0.8899 - val_loss: 0.7421 - val_accuracy: 0.7143\n",
      "Epoch 17/50\n",
      "37/37 [==============================] - ETA: 0s - loss: 0.3229 - accuracy: 0.9034WARNING:tensorflow:Can save best model only with val_acc available, skipping.\n",
      "37/37 [==============================] - 21s 575ms/step - loss: 0.3229 - accuracy: 0.9034 - val_loss: 0.7195 - val_accuracy: 0.7311\n",
      "Epoch 18/50\n",
      "37/37 [==============================] - ETA: 0s - loss: 0.3154 - accuracy: 0.8989WARNING:tensorflow:Can save best model only with val_acc available, skipping.\n",
      "37/37 [==============================] - 23s 620ms/step - loss: 0.3154 - accuracy: 0.8989 - val_loss: 0.7481 - val_accuracy: 0.7143\n",
      "Epoch 19/50\n",
      "37/37 [==============================] - ETA: 0s - loss: 0.2750 - accuracy: 0.9179WARNING:tensorflow:Can save best model only with val_acc available, skipping.\n",
      "37/37 [==============================] - 23s 623ms/step - loss: 0.2750 - accuracy: 0.9179 - val_loss: 0.6952 - val_accuracy: 0.7311\n",
      "Epoch 20/50\n",
      "37/37 [==============================] - ETA: 0s - loss: 0.2768 - accuracy: 0.9088WARNING:tensorflow:Can save best model only with val_acc available, skipping.\n",
      "37/37 [==============================] - 22s 594ms/step - loss: 0.2768 - accuracy: 0.9088 - val_loss: 0.7004 - val_accuracy: 0.7395\n",
      "Epoch 21/50\n",
      "37/37 [==============================] - ETA: 0s - loss: 0.2726 - accuracy: 0.9152WARNING:tensorflow:Can save best model only with val_acc available, skipping.\n",
      "37/37 [==============================] - 23s 627ms/step - loss: 0.2726 - accuracy: 0.9152 - val_loss: 0.6873 - val_accuracy: 0.7521\n",
      "Epoch 22/50\n",
      "37/37 [==============================] - ETA: 0s - loss: 0.2473 - accuracy: 0.9323WARNING:tensorflow:Can save best model only with val_acc available, skipping.\n",
      "37/37 [==============================] - 22s 606ms/step - loss: 0.2473 - accuracy: 0.9323 - val_loss: 0.6685 - val_accuracy: 0.7605\n",
      "Epoch 23/50\n",
      "37/37 [==============================] - ETA: 0s - loss: 0.2289 - accuracy: 0.9368WARNING:tensorflow:Can save best model only with val_acc available, skipping.\n",
      "37/37 [==============================] - 23s 622ms/step - loss: 0.2289 - accuracy: 0.9368 - val_loss: 0.6760 - val_accuracy: 0.7521\n",
      "Epoch 24/50\n",
      "37/37 [==============================] - ETA: 0s - loss: 0.2149 - accuracy: 0.9413WARNING:tensorflow:Can save best model only with val_acc available, skipping.\n",
      "37/37 [==============================] - 23s 614ms/step - loss: 0.2149 - accuracy: 0.9413 - val_loss: 0.6692 - val_accuracy: 0.7605\n",
      "Epoch 25/50\n",
      "37/37 [==============================] - ETA: 0s - loss: 0.1992 - accuracy: 0.9486WARNING:tensorflow:Can save best model only with val_acc available, skipping.\n",
      "37/37 [==============================] - 23s 615ms/step - loss: 0.1992 - accuracy: 0.9486 - val_loss: 0.6993 - val_accuracy: 0.7563\n",
      "Epoch 26/50\n",
      "37/37 [==============================] - ETA: 0s - loss: 0.1930 - accuracy: 0.9558WARNING:tensorflow:Can save best model only with val_acc available, skipping.\n",
      "37/37 [==============================] - 23s 622ms/step - loss: 0.1930 - accuracy: 0.9558 - val_loss: 0.6850 - val_accuracy: 0.7647\n",
      "Epoch 27/50\n",
      "37/37 [==============================] - ETA: 0s - loss: 0.1747 - accuracy: 0.9612WARNING:tensorflow:Can save best model only with val_acc available, skipping.\n",
      "37/37 [==============================] - 23s 630ms/step - loss: 0.1747 - accuracy: 0.9612 - val_loss: 0.6381 - val_accuracy: 0.7689\n",
      "Epoch 28/50\n",
      "37/37 [==============================] - ETA: 0s - loss: 0.1806 - accuracy: 0.9630WARNING:tensorflow:Can save best model only with val_acc available, skipping.\n",
      "37/37 [==============================] - 22s 595ms/step - loss: 0.1806 - accuracy: 0.9630 - val_loss: 0.6937 - val_accuracy: 0.7689\n",
      "Epoch 29/50\n",
      "37/37 [==============================] - ETA: 0s - loss: 0.1597 - accuracy: 0.9621WARNING:tensorflow:Can save best model only with val_acc available, skipping.\n",
      "37/37 [==============================] - 24s 636ms/step - loss: 0.1597 - accuracy: 0.9621 - val_loss: 0.7053 - val_accuracy: 0.7689\n",
      "Epoch 30/50\n",
      "37/37 [==============================] - ETA: 0s - loss: 0.1388 - accuracy: 0.9765WARNING:tensorflow:Can save best model only with val_acc available, skipping.\n",
      "37/37 [==============================] - 23s 636ms/step - loss: 0.1388 - accuracy: 0.9765 - val_loss: 0.6359 - val_accuracy: 0.7731\n",
      "Epoch 31/50\n",
      "37/37 [==============================] - ETA: 0s - loss: 0.1456 - accuracy: 0.9675WARNING:tensorflow:Can save best model only with val_acc available, skipping.\n",
      "37/37 [==============================] - 23s 623ms/step - loss: 0.1456 - accuracy: 0.9675 - val_loss: 0.6703 - val_accuracy: 0.7689\n",
      "Epoch 32/50\n",
      "37/37 [==============================] - ETA: 0s - loss: 0.1326 - accuracy: 0.9756WARNING:tensorflow:Can save best model only with val_acc available, skipping.\n",
      "37/37 [==============================] - 23s 620ms/step - loss: 0.1326 - accuracy: 0.9756 - val_loss: 0.6929 - val_accuracy: 0.7647\n",
      "Epoch 33/50\n",
      "37/37 [==============================] - ETA: 0s - loss: 0.1397 - accuracy: 0.9657WARNING:tensorflow:Can save best model only with val_acc available, skipping.\n",
      "37/37 [==============================] - 29s 797ms/step - loss: 0.1397 - accuracy: 0.9657 - val_loss: 0.6005 - val_accuracy: 0.7857\n",
      "Epoch 34/50\n",
      "37/37 [==============================] - ETA: 0s - loss: 0.1225 - accuracy: 0.9829WARNING:tensorflow:Can save best model only with val_acc available, skipping.\n",
      "37/37 [==============================] - 33s 888ms/step - loss: 0.1225 - accuracy: 0.9829 - val_loss: 0.6542 - val_accuracy: 0.7857\n",
      "Epoch 35/50\n",
      "37/37 [==============================] - ETA: 0s - loss: 0.1180 - accuracy: 0.9829WARNING:tensorflow:Can save best model only with val_acc available, skipping.\n",
      "37/37 [==============================] - 31s 850ms/step - loss: 0.1180 - accuracy: 0.9829 - val_loss: 0.6591 - val_accuracy: 0.7815\n",
      "Epoch 36/50\n",
      "37/37 [==============================] - ETA: 0s - loss: 0.1112 - accuracy: 0.9856WARNING:tensorflow:Can save best model only with val_acc available, skipping.\n",
      "37/37 [==============================] - 33s 880ms/step - loss: 0.1112 - accuracy: 0.9856 - val_loss: 0.6715 - val_accuracy: 0.7815\n",
      "Epoch 37/50\n",
      "37/37 [==============================] - ETA: 0s - loss: 0.1077 - accuracy: 0.9783WARNING:tensorflow:Can save best model only with val_acc available, skipping.\n",
      "37/37 [==============================] - 32s 864ms/step - loss: 0.1077 - accuracy: 0.9783 - val_loss: 0.6403 - val_accuracy: 0.7899\n",
      "Epoch 38/50\n",
      "37/37 [==============================] - ETA: 0s - loss: 0.0958 - accuracy: 0.9865WARNING:tensorflow:Can save best model only with val_acc available, skipping.\n",
      "37/37 [==============================] - 32s 861ms/step - loss: 0.0958 - accuracy: 0.9865 - val_loss: 0.6574 - val_accuracy: 0.7857\n",
      "Epoch 39/50\n",
      "37/37 [==============================] - ETA: 0s - loss: 0.1016 - accuracy: 0.9865WARNING:tensorflow:Can save best model only with val_acc available, skipping.\n",
      "37/37 [==============================] - 33s 886ms/step - loss: 0.1016 - accuracy: 0.9865 - val_loss: 0.6659 - val_accuracy: 0.7773\n",
      "Epoch 40/50\n",
      "37/37 [==============================] - ETA: 0s - loss: 0.0881 - accuracy: 0.9892WARNING:tensorflow:Can save best model only with val_acc available, skipping.\n",
      "37/37 [==============================] - 32s 878ms/step - loss: 0.0881 - accuracy: 0.9892 - val_loss: 0.6380 - val_accuracy: 0.7899\n",
      "Epoch 41/50\n",
      "37/37 [==============================] - ETA: 0s - loss: 0.0908 - accuracy: 0.9892WARNING:tensorflow:Can save best model only with val_acc available, skipping.\n",
      "37/37 [==============================] - 32s 859ms/step - loss: 0.0908 - accuracy: 0.9892 - val_loss: 0.6585 - val_accuracy: 0.7857\n",
      "Epoch 42/50\n",
      "37/37 [==============================] - ETA: 0s - loss: 0.0824 - accuracy: 0.9928WARNING:tensorflow:Can save best model only with val_acc available, skipping.\n",
      "37/37 [==============================] - 31s 849ms/step - loss: 0.0824 - accuracy: 0.9928 - val_loss: 0.6781 - val_accuracy: 0.7731\n",
      "Epoch 43/50\n",
      "37/37 [==============================] - ETA: 0s - loss: 0.0828 - accuracy: 0.9919WARNING:tensorflow:Can save best model only with val_acc available, skipping.\n",
      "37/37 [==============================] - 17s 443ms/step - loss: 0.0828 - accuracy: 0.9919 - val_loss: 0.6398 - val_accuracy: 0.7899\n",
      "Epoch 44/50\n",
      "37/37 [==============================] - ETA: 0s - loss: 0.0822 - accuracy: 0.9892WARNING:tensorflow:Can save best model only with val_acc available, skipping.\n",
      "37/37 [==============================] - 17s 457ms/step - loss: 0.0822 - accuracy: 0.9892 - val_loss: 0.6301 - val_accuracy: 0.7899\n",
      "Epoch 45/50\n",
      "37/37 [==============================] - ETA: 0s - loss: 0.0705 - accuracy: 0.9937WARNING:tensorflow:Can save best model only with val_acc available, skipping.\n",
      "37/37 [==============================] - 17s 450ms/step - loss: 0.0705 - accuracy: 0.9937 - val_loss: 0.6499 - val_accuracy: 0.7899\n",
      "Epoch 46/50\n",
      "37/37 [==============================] - ETA: 0s - loss: 0.0680 - accuracy: 0.9937WARNING:tensorflow:Can save best model only with val_acc available, skipping.\n",
      "37/37 [==============================] - 18s 487ms/step - loss: 0.0680 - accuracy: 0.9937 - val_loss: 0.6420 - val_accuracy: 0.7899\n",
      "Epoch 47/50\n",
      "37/37 [==============================] - ETA: 0s - loss: 0.0607 - accuracy: 0.9955WARNING:tensorflow:Can save best model only with val_acc available, skipping.\n",
      "37/37 [==============================] - 21s 575ms/step - loss: 0.0607 - accuracy: 0.9955 - val_loss: 0.6576 - val_accuracy: 0.7857\n",
      "Epoch 48/50\n",
      "37/37 [==============================] - ETA: 0s - loss: 0.0654 - accuracy: 0.9919WARNING:tensorflow:Can save best model only with val_acc available, skipping.\n",
      "37/37 [==============================] - 23s 634ms/step - loss: 0.0654 - accuracy: 0.9919 - val_loss: 0.6865 - val_accuracy: 0.7857\n",
      "Epoch 49/50\n",
      "37/37 [==============================] - ETA: 0s - loss: 0.0659 - accuracy: 0.9910WARNING:tensorflow:Can save best model only with val_acc available, skipping.\n",
      "37/37 [==============================] - 24s 660ms/step - loss: 0.0659 - accuracy: 0.9910 - val_loss: 0.6453 - val_accuracy: 0.7857\n",
      "Epoch 50/50\n",
      "37/37 [==============================] - ETA: 0s - loss: 0.0590 - accuracy: 0.9937WARNING:tensorflow:Can save best model only with val_acc available, skipping.\n",
      "37/37 [==============================] - 24s 636ms/step - loss: 0.0590 - accuracy: 0.9937 - val_loss: 0.6866 - val_accuracy: 0.7857\n"
     ]
    },
    {
     "data": {
      "text/plain": [
       "<keras.callbacks.History at 0x197b7fd2a70>"
      ]
     },
     "execution_count": 151,
     "metadata": {},
     "output_type": "execute_result"
    }
   ],
   "source": [
    "print(\"Traning Model...\")\n",
    "model.fit(X_train, y_train, batch_size=batch_size, epochs=epochs, verbose=1, callbacks=[checkpoint], validation_data=(x_val, y_val))"
   ]
  },
  {
   "cell_type": "code",
   "execution_count": 152,
   "metadata": {},
   "outputs": [
    {
     "name": "stdout",
     "output_type": "stream",
     "text": [
      "8/8 - 1s - loss: 0.8536 - accuracy: 0.7605 - 1s/epoch - 184ms/step\n",
      "Test Accuracy for training and testing on the cnn dataset: 76.050419\n"
     ]
    }
   ],
   "source": [
    "test_loss, test_acc = model.evaluate(x_test,  y_test, verbose=2)\n",
    "print('Test Accuracy for training and testing on the cnn dataset: %f' % (test_acc*100))"
   ]
  },
  {
   "cell_type": "markdown",
   "metadata": {},
   "source": [
    "# Training on Right Data and Testing it on left data"
   ]
  },
  {
   "cell_type": "code",
   "execution_count": 153,
   "metadata": {},
   "outputs": [],
   "source": [
    "df_cnn=pd.read_csv('./real_groundth_truth/preprocessed_nov_23_df_cnn_topic_combined.csv')\n",
    "texts_cnn=df_cnn[\"clean_text\"].tolist()\n",
    "labels_cnn=df_cnn[\"topicEncoded\"].to_list()"
   ]
  },
  {
   "cell_type": "code",
   "execution_count": 154,
   "metadata": {},
   "outputs": [
    {
     "name": "stdout",
     "output_type": "stream",
     "text": [
      "unique words : 6326\n",
      "Shape of data tensor: (1517, 1000)\n",
      "Shape of label tensor: (1517, 5)\n",
      "[[1. 0. 0. 0. 0.]\n",
      " [1. 0. 0. 0. 0.]\n",
      " [1. 0. 0. 0. 0.]\n",
      " ...\n",
      " [0. 0. 0. 1. 0.]\n",
      " [0. 0. 0. 1. 0.]\n",
      " [0. 0. 0. 1. 0.]]\n"
     ]
    }
   ],
   "source": [
    "tokenizer  = Tokenizer(num_words = MAX_WORDS)\n",
    "tokenizer.fit_on_texts(texts_cnn)\n",
    "sequences =  tokenizer.texts_to_sequences(texts_cnn)\n",
    "\n",
    "word_index = tokenizer.word_index\n",
    "print(\"unique words : {}\".format(len(word_index)))\n",
    "\n",
    "data = pad_sequences(sequences, maxlen=MAX_SEQUENCE_LENGTH)\n",
    "\n",
    "labels_cnn = to_categorical(np.asarray(labels_cnn))\n",
    "print('Shape of data tensor:', data.shape)\n",
    "print('Shape of label tensor:', labels_cnn.shape)\n",
    "print(labels_cnn)"
   ]
  },
  {
   "cell_type": "code",
   "execution_count": 155,
   "metadata": {},
   "outputs": [
    {
     "name": "stdout",
     "output_type": "stream",
     "text": [
      "[   0    1    2 ... 1514 1515 1516]\n"
     ]
    }
   ],
   "source": [
    "indices = np.arange(data.shape[0])\n",
    "print(indices)\n",
    "np.random.shuffle(indices)\n",
    "data = data[indices]\n",
    "labels = labels_cnn[indices]"
   ]
  },
  {
   "cell_type": "code",
   "execution_count": 156,
   "metadata": {},
   "outputs": [],
   "source": [
    "x_test=data\n",
    "y_test=labels"
   ]
  },
  {
   "cell_type": "code",
   "execution_count": 158,
   "metadata": {},
   "outputs": [
    {
     "name": "stdout",
     "output_type": "stream",
     "text": [
      "48/48 - 8s - loss: 1.9979 - accuracy: 0.5346 - 8s/epoch - 167ms/step\n",
      "Test Accuracy for training on the fox dataset and testing on the cnn dataset: 53.460777\n"
     ]
    }
   ],
   "source": [
    "test_loss, test_acc = model.evaluate(x_test,  y_test, verbose=2)\n",
    "print('Test Accuracy for training on the fox dataset and testing on the cnn dataset: %f' % (test_acc*100))"
   ]
  },
  {
   "cell_type": "code",
   "execution_count": null,
   "metadata": {},
   "outputs": [],
   "source": []
  }
 ],
 "metadata": {
  "kernelspec": {
   "display_name": "Python 3.10.7 64-bit",
   "language": "python",
   "name": "python3"
  },
  "language_info": {
   "codemirror_mode": {
    "name": "ipython",
    "version": 3
   },
   "file_extension": ".py",
   "mimetype": "text/x-python",
   "name": "python",
   "nbconvert_exporter": "python",
   "pygments_lexer": "ipython3",
   "version": "3.10.7"
  },
  "orig_nbformat": 4,
  "vscode": {
   "interpreter": {
    "hash": "e3a430ce3e785eaed4e3af6085b2c31bfb94cdf8f087fec0080a3cf792164695"
   }
  }
 },
 "nbformat": 4,
 "nbformat_minor": 2
}
