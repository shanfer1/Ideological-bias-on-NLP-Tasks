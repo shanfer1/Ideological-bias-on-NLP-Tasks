{
 "cells": [
  {
   "cell_type": "code",
   "execution_count": 85,
   "id": "2be85414",
   "metadata": {},
   "outputs": [
    {
     "name": "stdout",
     "output_type": "stream",
     "text": [
      "Requirement already satisfied: tensorflow==2.11.0 in /Users/ayushi_nirmal/opt/anaconda3/lib/python3.9/site-packages (2.11.0)\n",
      "Requirement already satisfied: gast<=0.4.0,>=0.2.1 in /Users/ayushi_nirmal/opt/anaconda3/lib/python3.9/site-packages (from tensorflow==2.11.0) (0.4.0)\n",
      "Requirement already satisfied: google-pasta>=0.1.1 in /Users/ayushi_nirmal/opt/anaconda3/lib/python3.9/site-packages (from tensorflow==2.11.0) (0.2.0)\n",
      "Requirement already satisfied: setuptools in /Users/ayushi_nirmal/opt/anaconda3/lib/python3.9/site-packages (from tensorflow==2.11.0) (63.4.1)\n",
      "Requirement already satisfied: tensorboard<2.12,>=2.11 in /Users/ayushi_nirmal/opt/anaconda3/lib/python3.9/site-packages (from tensorflow==2.11.0) (2.11.0)\n",
      "Requirement already satisfied: numpy>=1.20 in /Users/ayushi_nirmal/opt/anaconda3/lib/python3.9/site-packages (from tensorflow==2.11.0) (1.21.5)\n",
      "Requirement already satisfied: termcolor>=1.1.0 in /Users/ayushi_nirmal/opt/anaconda3/lib/python3.9/site-packages (from tensorflow==2.11.0) (2.1.1)\n",
      "Requirement already satisfied: absl-py>=1.0.0 in /Users/ayushi_nirmal/opt/anaconda3/lib/python3.9/site-packages (from tensorflow==2.11.0) (1.3.0)\n",
      "Requirement already satisfied: flatbuffers>=2.0 in /Users/ayushi_nirmal/opt/anaconda3/lib/python3.9/site-packages (from tensorflow==2.11.0) (2.0.7)\n",
      "Requirement already satisfied: libclang>=13.0.0 in /Users/ayushi_nirmal/opt/anaconda3/lib/python3.9/site-packages (from tensorflow==2.11.0) (14.0.6)\n",
      "Requirement already satisfied: grpcio<2.0,>=1.24.3 in /Users/ayushi_nirmal/opt/anaconda3/lib/python3.9/site-packages (from tensorflow==2.11.0) (1.50.0)\n",
      "Requirement already satisfied: opt-einsum>=2.3.2 in /Users/ayushi_nirmal/opt/anaconda3/lib/python3.9/site-packages (from tensorflow==2.11.0) (3.3.0)\n",
      "Requirement already satisfied: packaging in /Users/ayushi_nirmal/opt/anaconda3/lib/python3.9/site-packages (from tensorflow==2.11.0) (21.3)\n",
      "Requirement already satisfied: wrapt>=1.11.0 in /Users/ayushi_nirmal/opt/anaconda3/lib/python3.9/site-packages (from tensorflow==2.11.0) (1.14.1)\n",
      "Requirement already satisfied: protobuf<3.20,>=3.9.2 in /Users/ayushi_nirmal/opt/anaconda3/lib/python3.9/site-packages (from tensorflow==2.11.0) (3.19.6)\n",
      "Requirement already satisfied: tensorflow-io-gcs-filesystem>=0.23.1 in /Users/ayushi_nirmal/opt/anaconda3/lib/python3.9/site-packages (from tensorflow==2.11.0) (0.28.0)\n",
      "Requirement already satisfied: tensorflow-estimator<2.12,>=2.11.0 in /Users/ayushi_nirmal/opt/anaconda3/lib/python3.9/site-packages (from tensorflow==2.11.0) (2.11.0)\n",
      "Requirement already satisfied: six>=1.12.0 in /Users/ayushi_nirmal/opt/anaconda3/lib/python3.9/site-packages (from tensorflow==2.11.0) (1.16.0)\n",
      "Requirement already satisfied: h5py>=2.9.0 in /Users/ayushi_nirmal/opt/anaconda3/lib/python3.9/site-packages (from tensorflow==2.11.0) (3.7.0)\n",
      "Requirement already satisfied: keras<2.12,>=2.11.0 in /Users/ayushi_nirmal/opt/anaconda3/lib/python3.9/site-packages (from tensorflow==2.11.0) (2.11.0)\n",
      "Requirement already satisfied: astunparse>=1.6.0 in /Users/ayushi_nirmal/opt/anaconda3/lib/python3.9/site-packages (from tensorflow==2.11.0) (1.6.3)\n",
      "Requirement already satisfied: typing-extensions>=3.6.6 in /Users/ayushi_nirmal/opt/anaconda3/lib/python3.9/site-packages (from tensorflow==2.11.0) (4.3.0)\n",
      "Requirement already satisfied: wheel<1.0,>=0.23.0 in /Users/ayushi_nirmal/opt/anaconda3/lib/python3.9/site-packages (from astunparse>=1.6.0->tensorflow==2.11.0) (0.37.1)\n",
      "Requirement already satisfied: tensorboard-data-server<0.7.0,>=0.6.0 in /Users/ayushi_nirmal/opt/anaconda3/lib/python3.9/site-packages (from tensorboard<2.12,>=2.11->tensorflow==2.11.0) (0.6.1)\n",
      "Requirement already satisfied: google-auth-oauthlib<0.5,>=0.4.1 in /Users/ayushi_nirmal/opt/anaconda3/lib/python3.9/site-packages (from tensorboard<2.12,>=2.11->tensorflow==2.11.0) (0.4.6)\n",
      "Requirement already satisfied: tensorboard-plugin-wit>=1.6.0 in /Users/ayushi_nirmal/opt/anaconda3/lib/python3.9/site-packages (from tensorboard<2.12,>=2.11->tensorflow==2.11.0) (1.8.1)\n",
      "Requirement already satisfied: google-auth<3,>=1.6.3 in /Users/ayushi_nirmal/opt/anaconda3/lib/python3.9/site-packages (from tensorboard<2.12,>=2.11->tensorflow==2.11.0) (2.14.1)\n",
      "Requirement already satisfied: markdown>=2.6.8 in /Users/ayushi_nirmal/opt/anaconda3/lib/python3.9/site-packages (from tensorboard<2.12,>=2.11->tensorflow==2.11.0) (3.3.4)\n",
      "Requirement already satisfied: werkzeug>=1.0.1 in /Users/ayushi_nirmal/opt/anaconda3/lib/python3.9/site-packages (from tensorboard<2.12,>=2.11->tensorflow==2.11.0) (2.0.3)\n",
      "Requirement already satisfied: requests<3,>=2.21.0 in /Users/ayushi_nirmal/opt/anaconda3/lib/python3.9/site-packages (from tensorboard<2.12,>=2.11->tensorflow==2.11.0) (2.28.1)\n",
      "Requirement already satisfied: pyparsing!=3.0.5,>=2.0.2 in /Users/ayushi_nirmal/opt/anaconda3/lib/python3.9/site-packages (from packaging->tensorflow==2.11.0) (3.0.9)\n",
      "Requirement already satisfied: rsa<5,>=3.1.4 in /Users/ayushi_nirmal/opt/anaconda3/lib/python3.9/site-packages (from google-auth<3,>=1.6.3->tensorboard<2.12,>=2.11->tensorflow==2.11.0) (4.9)\n",
      "Requirement already satisfied: pyasn1-modules>=0.2.1 in /Users/ayushi_nirmal/opt/anaconda3/lib/python3.9/site-packages (from google-auth<3,>=1.6.3->tensorboard<2.12,>=2.11->tensorflow==2.11.0) (0.2.8)\n",
      "Requirement already satisfied: cachetools<6.0,>=2.0.0 in /Users/ayushi_nirmal/opt/anaconda3/lib/python3.9/site-packages (from google-auth<3,>=1.6.3->tensorboard<2.12,>=2.11->tensorflow==2.11.0) (5.2.0)\n",
      "Requirement already satisfied: requests-oauthlib>=0.7.0 in /Users/ayushi_nirmal/opt/anaconda3/lib/python3.9/site-packages (from google-auth-oauthlib<0.5,>=0.4.1->tensorboard<2.12,>=2.11->tensorflow==2.11.0) (1.3.1)\n",
      "Requirement already satisfied: idna<4,>=2.5 in /Users/ayushi_nirmal/opt/anaconda3/lib/python3.9/site-packages (from requests<3,>=2.21.0->tensorboard<2.12,>=2.11->tensorflow==2.11.0) (3.3)\n",
      "Requirement already satisfied: certifi>=2017.4.17 in /Users/ayushi_nirmal/opt/anaconda3/lib/python3.9/site-packages (from requests<3,>=2.21.0->tensorboard<2.12,>=2.11->tensorflow==2.11.0) (2022.9.24)\n",
      "Requirement already satisfied: charset-normalizer<3,>=2 in /Users/ayushi_nirmal/opt/anaconda3/lib/python3.9/site-packages (from requests<3,>=2.21.0->tensorboard<2.12,>=2.11->tensorflow==2.11.0) (2.0.4)\n",
      "Requirement already satisfied: urllib3<1.27,>=1.21.1 in /Users/ayushi_nirmal/opt/anaconda3/lib/python3.9/site-packages (from requests<3,>=2.21.0->tensorboard<2.12,>=2.11->tensorflow==2.11.0) (1.26.11)\n",
      "Requirement already satisfied: pyasn1<0.5.0,>=0.4.6 in /Users/ayushi_nirmal/opt/anaconda3/lib/python3.9/site-packages (from pyasn1-modules>=0.2.1->google-auth<3,>=1.6.3->tensorboard<2.12,>=2.11->tensorflow==2.11.0) (0.4.8)\n",
      "Requirement already satisfied: oauthlib>=3.0.0 in /Users/ayushi_nirmal/opt/anaconda3/lib/python3.9/site-packages (from requests-oauthlib>=0.7.0->google-auth-oauthlib<0.5,>=0.4.1->tensorboard<2.12,>=2.11->tensorflow==2.11.0) (3.2.2)\n",
      "Note: you may need to restart the kernel to use updated packages.\n"
     ]
    }
   ],
   "source": [
    "pip install tensorflow==2.11.0\n"
   ]
  },
  {
   "cell_type": "code",
   "execution_count": 86,
   "id": "1989a7bb",
   "metadata": {},
   "outputs": [],
   "source": [
    "from keras.preprocessing.text import one_hot\n",
    "import pandas as pd\n",
    "import tweepy\n",
    "import numpy as np\n",
    "from nltk.tokenize import word_tokenize\n",
    "from nltk import pos_tag\n",
    "from nltk.corpus import stopwords\n",
    "from nltk.stem import WordNetLemmatizer\n",
    "from sklearn.preprocessing import LabelEncoder\n",
    "from collections import defaultdict\n",
    "from nltk.corpus import wordnet as wn\n",
    "from sklearn.feature_extraction.text import TfidfVectorizer\n",
    "from sklearn import model_selection, naive_bayes, svm\n",
    "from sklearn.metrics import accuracy_score\n",
    "from sklearn.metrics import classification_report\n",
    "from sklearn.metrics import confusion_matrix\n",
    "import matplotlib.pyplot as plt\n",
    "import seaborn as sns\n",
    "import tensorflow as tf\n",
    "from nltk.stem import WordNetLemmatizer\n",
    "from keras.preprocessing.text import Tokenizer\n",
    "from keras.utils import to_categorical\n",
    "from keras_preprocessing.sequence import pad_sequences\n",
    "from tensorflow.keras import layers\n",
    "from sklearn.metrics import accuracy_score\n",
    "from sklearn.metrics import classification_report\n",
    "from sklearn.metrics import confusion_matrix"
   ]
  },
  {
   "cell_type": "markdown",
   "id": "d604a1ac",
   "metadata": {},
   "source": [
    "# Getting preprocessed data for CNN from CSV file"
   ]
  },
  {
   "cell_type": "code",
   "execution_count": 87,
   "id": "52a8a8e8",
   "metadata": {},
   "outputs": [
    {
     "data": {
      "text/html": [
       "<div>\n",
       "<style scoped>\n",
       "    .dataframe tbody tr th:only-of-type {\n",
       "        vertical-align: middle;\n",
       "    }\n",
       "\n",
       "    .dataframe tbody tr th {\n",
       "        vertical-align: top;\n",
       "    }\n",
       "\n",
       "    .dataframe thead th {\n",
       "        text-align: right;\n",
       "    }\n",
       "</style>\n",
       "<table border=\"1\" class=\"dataframe\">\n",
       "  <thead>\n",
       "    <tr style=\"text-align: right;\">\n",
       "      <th></th>\n",
       "      <th>Unnamed: 0.2</th>\n",
       "      <th>Unnamed: 0.1</th>\n",
       "      <th>screenName</th>\n",
       "      <th>description</th>\n",
       "      <th>location</th>\n",
       "      <th>text</th>\n",
       "      <th>Unnamed: 0</th>\n",
       "      <th>topic</th>\n",
       "      <th>topicEncoded</th>\n",
       "      <th>tokenized_sentences</th>\n",
       "      <th>clean_text</th>\n",
       "    </tr>\n",
       "  </thead>\n",
       "  <tbody>\n",
       "    <tr>\n",
       "      <th>0</th>\n",
       "      <td>0</td>\n",
       "      <td>0</td>\n",
       "      <td>CNN</td>\n",
       "      <td>Itâs our job to #GoThere &amp; tell the most dif...</td>\n",
       "      <td>NaN</td>\n",
       "      <td>another employee exodus appears underway twitt...</td>\n",
       "      <td>31.0</td>\n",
       "      <td>corporatenews</td>\n",
       "      <td>0</td>\n",
       "      <td>['anoth', 'employe', 'exodu', 'appear', 'under...</td>\n",
       "      <td>anoth employe exodu appear underway twitter ma...</td>\n",
       "    </tr>\n",
       "    <tr>\n",
       "      <th>1</th>\n",
       "      <td>1</td>\n",
       "      <td>1</td>\n",
       "      <td>CNN</td>\n",
       "      <td>Itâs our job to #GoThere &amp; tell the most dif...</td>\n",
       "      <td>NaN</td>\n",
       "      <td>amazon ceo andy jassy said job cuts the e-comm...</td>\n",
       "      <td>36.0</td>\n",
       "      <td>corporatenews</td>\n",
       "      <td>0</td>\n",
       "      <td>['amazon', 'ceo', 'andi', 'jassi', 'said', 'jo...</td>\n",
       "      <td>amazon ceo andi jassi said job cut e-commerc g...</td>\n",
       "    </tr>\n",
       "    <tr>\n",
       "      <th>2</th>\n",
       "      <td>2</td>\n",
       "      <td>2</td>\n",
       "      <td>CNN</td>\n",
       "      <td>Itâs our job to #GoThere &amp; tell the most dif...</td>\n",
       "      <td>NaN</td>\n",
       "      <td>max verstappen and red bull have hit out onlin...</td>\n",
       "      <td>37.0</td>\n",
       "      <td>corporatenews</td>\n",
       "      <td>0</td>\n",
       "      <td>['max', 'verstappen', 'red', 'bull', 'hit', 'o...</td>\n",
       "      <td>max verstappen red bull hit onlin threat abus ...</td>\n",
       "    </tr>\n",
       "    <tr>\n",
       "      <th>3</th>\n",
       "      <td>3</td>\n",
       "      <td>3</td>\n",
       "      <td>CNN</td>\n",
       "      <td>Itâs our job to #GoThere &amp; tell the most dif...</td>\n",
       "      <td>NaN</td>\n",
       "      <td>here are things you need know today new york s...</td>\n",
       "      <td>45.0</td>\n",
       "      <td>corporatenews</td>\n",
       "      <td>0</td>\n",
       "      <td>['thing', 'need', 'know', 'today', 'new', 'yor...</td>\n",
       "      <td>thing need know today new york snowstorm twitt...</td>\n",
       "    </tr>\n",
       "    <tr>\n",
       "      <th>4</th>\n",
       "      <td>4</td>\n",
       "      <td>4</td>\n",
       "      <td>CNN</td>\n",
       "      <td>Itâs our job to #GoThere &amp; tell the most dif...</td>\n",
       "      <td>NaN</td>\n",
       "      <td>riptwitter was the top trend worldwide thursda...</td>\n",
       "      <td>53.0</td>\n",
       "      <td>corporatenews</td>\n",
       "      <td>0</td>\n",
       "      <td>['riptwitt', 'top', 'trend', 'worldwid', 'thur...</td>\n",
       "      <td>riptwitt top trend worldwid thursday even user...</td>\n",
       "    </tr>\n",
       "  </tbody>\n",
       "</table>\n",
       "</div>"
      ],
      "text/plain": [
       "   Unnamed: 0.2  Unnamed: 0.1 screenName  \\\n",
       "0             0             0        CNN   \n",
       "1             1             1        CNN   \n",
       "2             2             2        CNN   \n",
       "3             3             3        CNN   \n",
       "4             4             4        CNN   \n",
       "\n",
       "                                         description  location  \\\n",
       "0  Itâs our job to #GoThere & tell the most dif...       NaN   \n",
       "1  Itâs our job to #GoThere & tell the most dif...       NaN   \n",
       "2  Itâs our job to #GoThere & tell the most dif...       NaN   \n",
       "3  Itâs our job to #GoThere & tell the most dif...       NaN   \n",
       "4  Itâs our job to #GoThere & tell the most dif...       NaN   \n",
       "\n",
       "                                                text  Unnamed: 0  \\\n",
       "0  another employee exodus appears underway twitt...        31.0   \n",
       "1  amazon ceo andy jassy said job cuts the e-comm...        36.0   \n",
       "2  max verstappen and red bull have hit out onlin...        37.0   \n",
       "3  here are things you need know today new york s...        45.0   \n",
       "4  riptwitter was the top trend worldwide thursda...        53.0   \n",
       "\n",
       "           topic  topicEncoded  \\\n",
       "0  corporatenews             0   \n",
       "1  corporatenews             0   \n",
       "2  corporatenews             0   \n",
       "3  corporatenews             0   \n",
       "4  corporatenews             0   \n",
       "\n",
       "                                 tokenized_sentences  \\\n",
       "0  ['anoth', 'employe', 'exodu', 'appear', 'under...   \n",
       "1  ['amazon', 'ceo', 'andi', 'jassi', 'said', 'jo...   \n",
       "2  ['max', 'verstappen', 'red', 'bull', 'hit', 'o...   \n",
       "3  ['thing', 'need', 'know', 'today', 'new', 'yor...   \n",
       "4  ['riptwitt', 'top', 'trend', 'worldwid', 'thur...   \n",
       "\n",
       "                                          clean_text  \n",
       "0  anoth employe exodu appear underway twitter ma...  \n",
       "1  amazon ceo andi jassi said job cut e-commerc g...  \n",
       "2  max verstappen red bull hit onlin threat abus ...  \n",
       "3  thing need know today new york snowstorm twitt...  \n",
       "4  riptwitt top trend worldwid thursday even user...  "
      ]
     },
     "execution_count": 87,
     "metadata": {},
     "output_type": "execute_result"
    }
   ],
   "source": [
    "np.random.seed(500)\n",
    "preprocessedData_CNN = pd.read_csv('preprocessed_nov_23_df_cnn_topic_combined.csv',delimiter=',',encoding='latin-1')\n",
    "preprocessedData_CNN.head()\n"
   ]
  },
  {
   "cell_type": "markdown",
   "id": "9872761c",
   "metadata": {},
   "source": [
    "# Getting preprocessed data for FOX from CSV file"
   ]
  },
  {
   "cell_type": "code",
   "execution_count": 88,
   "id": "caa74032",
   "metadata": {},
   "outputs": [
    {
     "data": {
      "text/html": [
       "<div>\n",
       "<style scoped>\n",
       "    .dataframe tbody tr th:only-of-type {\n",
       "        vertical-align: middle;\n",
       "    }\n",
       "\n",
       "    .dataframe tbody tr th {\n",
       "        vertical-align: top;\n",
       "    }\n",
       "\n",
       "    .dataframe thead th {\n",
       "        text-align: right;\n",
       "    }\n",
       "</style>\n",
       "<table border=\"1\" class=\"dataframe\">\n",
       "  <thead>\n",
       "    <tr style=\"text-align: right;\">\n",
       "      <th></th>\n",
       "      <th>Unnamed: 0.2</th>\n",
       "      <th>Unnamed: 0.1</th>\n",
       "      <th>screenName</th>\n",
       "      <th>description</th>\n",
       "      <th>location</th>\n",
       "      <th>text</th>\n",
       "      <th>Unnamed: 0</th>\n",
       "      <th>topic</th>\n",
       "      <th>topicEncoded</th>\n",
       "      <th>tokenized_sentences</th>\n",
       "      <th>clean_text</th>\n",
       "    </tr>\n",
       "  </thead>\n",
       "  <tbody>\n",
       "    <tr>\n",
       "      <th>0</th>\n",
       "      <td>0</td>\n",
       "      <td>0</td>\n",
       "      <td>FoxNews</td>\n",
       "      <td>Follow America's #1 cable news network, delive...</td>\n",
       "      <td>U.S.A.</td>\n",
       "      <td>elon musk triggers liberals with ultimatum twi...</td>\n",
       "      <td>10.0</td>\n",
       "      <td>corporatenews</td>\n",
       "      <td>0</td>\n",
       "      <td>['elon', 'musk', 'trigger', 'liber', 'ultimatu...</td>\n",
       "      <td>elon musk trigger liber ultimatum twitter staf...</td>\n",
       "    </tr>\n",
       "    <tr>\n",
       "      <th>1</th>\n",
       "      <td>1</td>\n",
       "      <td>1</td>\n",
       "      <td>FoxNews</td>\n",
       "      <td>Follow America's #1 cable news network, delive...</td>\n",
       "      <td>U.S.A.</td>\n",
       "      <td>musk trolls aoc, liberal journalists who panic...</td>\n",
       "      <td>20.0</td>\n",
       "      <td>corporatenews</td>\n",
       "      <td>0</td>\n",
       "      <td>['musk', 'troll', 'aoc', ',', 'liber', 'journa...</td>\n",
       "      <td>musk troll aoc , liber journalist panick end t...</td>\n",
       "    </tr>\n",
       "    <tr>\n",
       "      <th>2</th>\n",
       "      <td>2</td>\n",
       "      <td>2</td>\n",
       "      <td>FoxNews</td>\n",
       "      <td>Follow America's #1 cable news network, delive...</td>\n",
       "      <td>U.S.A.</td>\n",
       "      <td>twitter reportedly losing more staff members a...</td>\n",
       "      <td>52.0</td>\n",
       "      <td>corporatenews</td>\n",
       "      <td>0</td>\n",
       "      <td>['twitter', 'reportedli', 'lose', 'staff', 'me...</td>\n",
       "      <td>twitter reportedli lose staff member musk hard...</td>\n",
       "    </tr>\n",
       "    <tr>\n",
       "      <th>3</th>\n",
       "      <td>3</td>\n",
       "      <td>3</td>\n",
       "      <td>FoxNews</td>\n",
       "      <td>Follow America's #1 cable news network, delive...</td>\n",
       "      <td>U.S.A.</td>\n",
       "      <td>sen markey warns elon musk will pay price new ...</td>\n",
       "      <td>63.0</td>\n",
       "      <td>corporatenews</td>\n",
       "      <td>0</td>\n",
       "      <td>['sen', 'markey', 'warn', 'elon', 'musk', 'pay...</td>\n",
       "      <td>sen markey warn elon musk pay price new twitte...</td>\n",
       "    </tr>\n",
       "    <tr>\n",
       "      <th>4</th>\n",
       "      <td>4</td>\n",
       "      <td>4</td>\n",
       "      <td>FoxNews</td>\n",
       "      <td>Follow America's #1 cable news network, delive...</td>\n",
       "      <td>U.S.A.</td>\n",
       "      <td>surge twitter fact-checks progressive figures ...</td>\n",
       "      <td>81.0</td>\n",
       "      <td>corporatenews</td>\n",
       "      <td>0</td>\n",
       "      <td>['surg', 'twitter', 'fact-check', 'progress', ...</td>\n",
       "      <td>surg twitter fact-check progress figur draw pr...</td>\n",
       "    </tr>\n",
       "  </tbody>\n",
       "</table>\n",
       "</div>"
      ],
      "text/plain": [
       "   Unnamed: 0.2  Unnamed: 0.1 screenName  \\\n",
       "0             0             0    FoxNews   \n",
       "1             1             1    FoxNews   \n",
       "2             2             2    FoxNews   \n",
       "3             3             3    FoxNews   \n",
       "4             4             4    FoxNews   \n",
       "\n",
       "                                         description location  \\\n",
       "0  Follow America's #1 cable news network, delive...   U.S.A.   \n",
       "1  Follow America's #1 cable news network, delive...   U.S.A.   \n",
       "2  Follow America's #1 cable news network, delive...   U.S.A.   \n",
       "3  Follow America's #1 cable news network, delive...   U.S.A.   \n",
       "4  Follow America's #1 cable news network, delive...   U.S.A.   \n",
       "\n",
       "                                                text  Unnamed: 0  \\\n",
       "0  elon musk triggers liberals with ultimatum twi...        10.0   \n",
       "1  musk trolls aoc, liberal journalists who panic...        20.0   \n",
       "2  twitter reportedly losing more staff members a...        52.0   \n",
       "3  sen markey warns elon musk will pay price new ...        63.0   \n",
       "4  surge twitter fact-checks progressive figures ...        81.0   \n",
       "\n",
       "           topic  topicEncoded  \\\n",
       "0  corporatenews             0   \n",
       "1  corporatenews             0   \n",
       "2  corporatenews             0   \n",
       "3  corporatenews             0   \n",
       "4  corporatenews             0   \n",
       "\n",
       "                                 tokenized_sentences  \\\n",
       "0  ['elon', 'musk', 'trigger', 'liber', 'ultimatu...   \n",
       "1  ['musk', 'troll', 'aoc', ',', 'liber', 'journa...   \n",
       "2  ['twitter', 'reportedli', 'lose', 'staff', 'me...   \n",
       "3  ['sen', 'markey', 'warn', 'elon', 'musk', 'pay...   \n",
       "4  ['surg', 'twitter', 'fact-check', 'progress', ...   \n",
       "\n",
       "                                          clean_text  \n",
       "0  elon musk trigger liber ultimatum twitter staf...  \n",
       "1  musk troll aoc , liber journalist panick end t...  \n",
       "2  twitter reportedli lose staff member musk hard...  \n",
       "3  sen markey warn elon musk pay price new twitte...  \n",
       "4  surg twitter fact-check progress figur draw pr...  "
      ]
     },
     "execution_count": 88,
     "metadata": {},
     "output_type": "execute_result"
    }
   ],
   "source": [
    "np.random.seed(500)\n",
    "preprocessedData_Fox = pd.read_csv('preprocessed_nov_23_df_fox_topic_combined.csv',delimiter=',',encoding='latin-1')\n",
    "preprocessedData_Fox.head()\n"
   ]
  },
  {
   "cell_type": "markdown",
   "id": "7d8001d3",
   "metadata": {},
   "source": [
    "# Getting preprocessed data for REUTERS from CSV file"
   ]
  },
  {
   "cell_type": "code",
   "execution_count": 89,
   "id": "303b4dc4",
   "metadata": {},
   "outputs": [
    {
     "data": {
      "text/html": [
       "<div>\n",
       "<style scoped>\n",
       "    .dataframe tbody tr th:only-of-type {\n",
       "        vertical-align: middle;\n",
       "    }\n",
       "\n",
       "    .dataframe tbody tr th {\n",
       "        vertical-align: top;\n",
       "    }\n",
       "\n",
       "    .dataframe thead th {\n",
       "        text-align: right;\n",
       "    }\n",
       "</style>\n",
       "<table border=\"1\" class=\"dataframe\">\n",
       "  <thead>\n",
       "    <tr style=\"text-align: right;\">\n",
       "      <th></th>\n",
       "      <th>Unnamed: 0.2</th>\n",
       "      <th>Unnamed: 0.1</th>\n",
       "      <th>screenName</th>\n",
       "      <th>description</th>\n",
       "      <th>location</th>\n",
       "      <th>text</th>\n",
       "      <th>Unnamed: 0</th>\n",
       "      <th>topic</th>\n",
       "      <th>topicEncoded</th>\n",
       "      <th>tokenized_sentences</th>\n",
       "      <th>clean_text</th>\n",
       "    </tr>\n",
       "  </thead>\n",
       "  <tbody>\n",
       "    <tr>\n",
       "      <th>0</th>\n",
       "      <td>0</td>\n",
       "      <td>0</td>\n",
       "      <td>Reuters</td>\n",
       "      <td>Top and breaking news, pictures and videos fro...</td>\n",
       "      <td>Around the world</td>\n",
       "      <td>italy court rejects googles appeal against wat...</td>\n",
       "      <td>0.0</td>\n",
       "      <td>corporatenews</td>\n",
       "      <td>0</td>\n",
       "      <td>['itali', 'court', 'reject', 'googl', 'appeal'...</td>\n",
       "      <td>itali court reject googl appeal watchdog fine ...</td>\n",
       "    </tr>\n",
       "    <tr>\n",
       "      <th>1</th>\n",
       "      <td>1</td>\n",
       "      <td>1</td>\n",
       "      <td>Reuters</td>\n",
       "      <td>Top and breaking news, pictures and videos fro...</td>\n",
       "      <td>Around the world</td>\n",
       "      <td>jaguar land rover turns laid-off tech workers ...</td>\n",
       "      <td>4.0</td>\n",
       "      <td>corporatenews</td>\n",
       "      <td>0</td>\n",
       "      <td>['jaguar', 'land', 'rover', 'turn', 'laid-off'...</td>\n",
       "      <td>jaguar land rover turn laid-off tech worker sk...</td>\n",
       "    </tr>\n",
       "    <tr>\n",
       "      <th>2</th>\n",
       "      <td>2</td>\n",
       "      <td>2</td>\n",
       "      <td>Reuters</td>\n",
       "      <td>Top and breaking news, pictures and videos fro...</td>\n",
       "      <td>Around the world</td>\n",
       "      <td>indian food delivery firm zomatos co-founder r...</td>\n",
       "      <td>12.0</td>\n",
       "      <td>corporatenews</td>\n",
       "      <td>0</td>\n",
       "      <td>['indian', 'food', 'deliveri', 'firm', 'zomato...</td>\n",
       "      <td>indian food deliveri firm zomato co-found resi...</td>\n",
       "    </tr>\n",
       "    <tr>\n",
       "      <th>3</th>\n",
       "      <td>3</td>\n",
       "      <td>3</td>\n",
       "      <td>Reuters</td>\n",
       "      <td>Top and breaking news, pictures and videos fro...</td>\n",
       "      <td>Around the world</td>\n",
       "      <td>companies are setting minimum prices their goo...</td>\n",
       "      <td>16.0</td>\n",
       "      <td>corporatenews</td>\n",
       "      <td>0</td>\n",
       "      <td>['compani', 'set', 'minimum', 'price', 'good',...</td>\n",
       "      <td>compani set minimum price good maintain profit...</td>\n",
       "    </tr>\n",
       "    <tr>\n",
       "      <th>4</th>\n",
       "      <td>4</td>\n",
       "      <td>4</td>\n",
       "      <td>Reuters</td>\n",
       "      <td>Top and breaking news, pictures and videos fro...</td>\n",
       "      <td>Around the world</td>\n",
       "      <td>twitter has reinstated the accounts us comedia...</td>\n",
       "      <td>17.0</td>\n",
       "      <td>corporatenews</td>\n",
       "      <td>0</td>\n",
       "      <td>['twitter', 'reinstat', 'account', 'u', 'comed...</td>\n",
       "      <td>twitter reinstat account u comedian kathi grif...</td>\n",
       "    </tr>\n",
       "  </tbody>\n",
       "</table>\n",
       "</div>"
      ],
      "text/plain": [
       "   Unnamed: 0.2  Unnamed: 0.1 screenName  \\\n",
       "0             0             0    Reuters   \n",
       "1             1             1    Reuters   \n",
       "2             2             2    Reuters   \n",
       "3             3             3    Reuters   \n",
       "4             4             4    Reuters   \n",
       "\n",
       "                                         description          location  \\\n",
       "0  Top and breaking news, pictures and videos fro...  Around the world   \n",
       "1  Top and breaking news, pictures and videos fro...  Around the world   \n",
       "2  Top and breaking news, pictures and videos fro...  Around the world   \n",
       "3  Top and breaking news, pictures and videos fro...  Around the world   \n",
       "4  Top and breaking news, pictures and videos fro...  Around the world   \n",
       "\n",
       "                                                text  Unnamed: 0  \\\n",
       "0  italy court rejects googles appeal against wat...         0.0   \n",
       "1  jaguar land rover turns laid-off tech workers ...         4.0   \n",
       "2  indian food delivery firm zomatos co-founder r...        12.0   \n",
       "3  companies are setting minimum prices their goo...        16.0   \n",
       "4  twitter has reinstated the accounts us comedia...        17.0   \n",
       "\n",
       "           topic  topicEncoded  \\\n",
       "0  corporatenews             0   \n",
       "1  corporatenews             0   \n",
       "2  corporatenews             0   \n",
       "3  corporatenews             0   \n",
       "4  corporatenews             0   \n",
       "\n",
       "                                 tokenized_sentences  \\\n",
       "0  ['itali', 'court', 'reject', 'googl', 'appeal'...   \n",
       "1  ['jaguar', 'land', 'rover', 'turn', 'laid-off'...   \n",
       "2  ['indian', 'food', 'deliveri', 'firm', 'zomato...   \n",
       "3  ['compani', 'set', 'minimum', 'price', 'good',...   \n",
       "4  ['twitter', 'reinstat', 'account', 'u', 'comed...   \n",
       "\n",
       "                                          clean_text  \n",
       "0  itali court reject googl appeal watchdog fine ...  \n",
       "1  jaguar land rover turn laid-off tech worker sk...  \n",
       "2  indian food deliveri firm zomato co-found resi...  \n",
       "3  compani set minimum price good maintain profit...  \n",
       "4  twitter reinstat account u comedian kathi grif...  "
      ]
     },
     "execution_count": 89,
     "metadata": {},
     "output_type": "execute_result"
    }
   ],
   "source": [
    "np.random.seed(500)\n",
    "preprocessedData_Reuters = pd.read_csv('preprocessed_nov_23_df_reuters_topic_combined.csv',delimiter=',',encoding='latin-1')\n",
    "preprocessedData_Reuters.head()"
   ]
  },
  {
   "cell_type": "code",
   "execution_count": 90,
   "id": "a415d7db",
   "metadata": {},
   "outputs": [
    {
     "name": "stderr",
     "output_type": "stream",
     "text": [
      "/Users/ayushi_nirmal/opt/anaconda3/lib/python3.9/site-packages/seaborn/_decorators.py:36: FutureWarning: Pass the following variable as a keyword arg: x. From version 0.12, the only valid positional argument will be `data`, and passing other arguments without an explicit keyword will result in an error or misinterpretation.\n",
      "  warnings.warn(\n"
     ]
    },
    {
     "data": {
      "text/plain": [
       "Text(0.5, 1.0, 'CountPlot')"
      ]
     },
     "execution_count": 90,
     "metadata": {},
     "output_type": "execute_result"
    },
    {
     "data": {
      "image/png": "[encoded data removed]",
      "text/plain": [
       "<Figure size 640x480 with 1 Axes>"
      ]
     },
     "metadata": {},
     "output_type": "display_data"
    }
   ],
   "source": [
    "sns.countplot(preprocessedData_CNN.topic)\n",
    "plt.xlabel('Category')\n",
    "plt.title('CountPlot')\n"
   ]
  },
  {
   "cell_type": "code",
   "execution_count": 91,
   "id": "a8b4e05c",
   "metadata": {},
   "outputs": [
    {
     "name": "stderr",
     "output_type": "stream",
     "text": [
      "/Users/ayushi_nirmal/opt/anaconda3/lib/python3.9/site-packages/seaborn/_decorators.py:36: FutureWarning: Pass the following variable as a keyword arg: x. From version 0.12, the only valid positional argument will be `data`, and passing other arguments without an explicit keyword will result in an error or misinterpretation.\n",
      "  warnings.warn(\n"
     ]
    },
    {
     "data": {
      "text/plain": [
       "Text(0.5, 1.0, 'CountPlot')"
      ]
     },
     "execution_count": 91,
     "metadata": {},
     "output_type": "execute_result"
    },
    {
     "data": {
      "image/png": "[encoded data removed]",
      "text/plain": [
       "<Figure size 640x480 with 1 Axes>"
      ]
     },
     "metadata": {},
     "output_type": "display_data"
    }
   ],
   "source": [
    "sns.countplot(preprocessedData_Fox.topic)\n",
    "plt.xlabel('Category')\n",
    "plt.title('CountPlot')\n"
   ]
  },
  {
   "cell_type": "code",
   "execution_count": 72,
   "id": "9b891c46",
   "metadata": {},
   "outputs": [
    {
     "name": "stderr",
     "output_type": "stream",
     "text": [
      "/Users/ayushi_nirmal/opt/anaconda3/lib/python3.9/site-packages/seaborn/_decorators.py:36: FutureWarning: Pass the following variable as a keyword arg: x. From version 0.12, the only valid positional argument will be `data`, and passing other arguments without an explicit keyword will result in an error or misinterpretation.\n",
      "  warnings.warn(\n"
     ]
    },
    {
     "data": {
      "text/plain": [
       "Text(0.5, 1.0, 'CountPlot')"
      ]
     },
     "execution_count": 72,
     "metadata": {},
     "output_type": "execute_result"
    },
    {
     "data": {
      "image/png": "[encoded data removed]",
      "text/plain": [
       "<Figure size 640x480 with 1 Axes>"
      ]
     },
     "metadata": {},
     "output_type": "display_data"
    }
   ],
   "source": [
    "sns.countplot(preprocessedData_Reuters.topic)\n",
    "plt.xlabel('Category')\n",
    "plt.title('CountPlot')\n"
   ]
  },
  {
   "cell_type": "markdown",
   "id": "c5dcc3ce",
   "metadata": {},
   "source": [
    "# Additional DataPreProcessing for RNN"
   ]
  },
  {
   "cell_type": "code",
   "execution_count": 92,
   "id": "bc89ede5",
   "metadata": {},
   "outputs": [],
   "source": [
    "def padding(data_frame):\n",
    "    MAX_WORDS = 1000\n",
    "    MAX_SEQUENCE_LENGTH=1000\n",
    "    encoded_docs=[one_hot(item['clean_text'],vocab_size) for i,item in data_frame.iterrows()]\n",
    "    text=data_frame['clean_text'].to_list()\n",
    "    labels=data_frame['topicEncoded'].to_list()\n",
    "\n",
    "    tokenizer  = Tokenizer(num_words = MAX_WORDS)\n",
    "    tokenizer.fit_on_texts(text)\n",
    "    sequences =  tokenizer.texts_to_sequences(text)\n",
    "\n",
    "    word_index = tokenizer.word_index\n",
    "#     print(\"unique words : {}\".format(len(word_index)))\n",
    "\n",
    "    data = pad_sequences(sequences, maxlen=MAX_SEQUENCE_LENGTH)\n",
    "\n",
    "    labels = to_categorical(np.asarray(labels))\n",
    "    return data, labels\n",
    "#     print('Shape of data tensor:', data.shape)\n",
    "#     print('Shape of label tensor:', labels.shape)\n",
    "#     print(labels)"
   ]
  },
  {
   "cell_type": "markdown",
   "id": "3595bc30",
   "metadata": {},
   "source": [
    "# Training on CNN "
   ]
  },
  {
   "cell_type": "code",
   "execution_count": 93,
   "id": "4e1735a8",
   "metadata": {},
   "outputs": [],
   "source": [
    "Train_X_CNN, Train_Y_CNN = preprocessedData_CNN['clean_text'], preprocessedData_CNN['topicEncoded']\n",
    "Test_X_FOX, Test_Y_FOX = preprocessedData_Fox['clean_text'], preprocessedData_Fox['topicEncoded']\n",
    "Test_X_Reuters, Test_Y_Reuters = preprocessedData_Reuters['clean_text'], preprocessedData_Reuters['topicEncoded']\n",
    "x_train_cnn, y_train_cnn = padding(preprocessedData_CNN)\n",
    "x_test_fox, y_test_fox = padding(preprocessedData_Fox)\n",
    "x_test_reuters, y_test_reuters = padding(preprocessedData_Reuters)"
   ]
  },
  {
   "cell_type": "code",
   "execution_count": 115,
   "id": "195f4036",
   "metadata": {},
   "outputs": [],
   "source": [
    "word_size = 1000\n",
    "embed_size = 500\n",
    "imdb_model=tf.keras.Sequential()\n",
    "imdb_model.add(tf.keras.layers.Embedding(word_size, embed_size, input_shape=(x_train_cnn.shape[1],)))\n",
    "imdb_model.add(tf.keras.layers.LSTM(units=128, activation='tanh'))\n",
    "# Output Layer\n",
    "imdb_model.add(tf.keras.layers.Dense(units=5, activation='sigmoid'))\n",
    "imdb_model.compile(optimizer='rmsprop', loss='binary_crossentropy', metrics=['accuracy'])"
   ]
  },
  {
   "cell_type": "code",
   "execution_count": 116,
   "id": "262de541",
   "metadata": {},
   "outputs": [
    {
     "name": "stdout",
     "output_type": "stream",
     "text": [
      "Epoch 1/25\n",
      "12/12 [==============================] - 33s 3s/step - loss: 0.5209 - accuracy: 0.5175\n",
      "Epoch 2/25\n",
      "12/12 [==============================] - 30s 2s/step - loss: 0.4158 - accuracy: 0.5485\n",
      "Epoch 3/25\n",
      "12/12 [==============================] - 31s 3s/step - loss: 0.4147 - accuracy: 0.5485\n",
      "Epoch 4/25\n",
      "12/12 [==============================] - 29s 2s/step - loss: 0.4119 - accuracy: 0.5485\n",
      "Epoch 5/25\n",
      "12/12 [==============================] - 29s 2s/step - loss: 0.4087 - accuracy: 0.5485\n",
      "Epoch 6/25\n",
      "12/12 [==============================] - 29s 2s/step - loss: 0.3958 - accuracy: 0.5504\n",
      "Epoch 7/25\n",
      "12/12 [==============================] - 30s 2s/step - loss: 0.3831 - accuracy: 0.5583\n",
      "Epoch 8/25\n",
      "12/12 [==============================] - 30s 2s/step - loss: 0.3552 - accuracy: 0.5781\n",
      "Epoch 9/25\n",
      "12/12 [==============================] - 31s 3s/step - loss: 0.3386 - accuracy: 0.6058\n",
      "Epoch 10/25\n",
      "12/12 [==============================] - 30s 2s/step - loss: 0.3058 - accuracy: 0.6513\n",
      "Epoch 11/25\n",
      "12/12 [==============================] - 31s 3s/step - loss: 0.2779 - accuracy: 0.6697\n",
      "Epoch 12/25\n",
      "12/12 [==============================] - 30s 3s/step - loss: 0.2590 - accuracy: 0.6908\n",
      "Epoch 13/25\n",
      "12/12 [==============================] - 30s 3s/step - loss: 0.2432 - accuracy: 0.7132\n",
      "Epoch 14/25\n",
      "12/12 [==============================] - 30s 2s/step - loss: 0.2229 - accuracy: 0.7390\n",
      "Epoch 15/25\n",
      "12/12 [==============================] - 30s 3s/step - loss: 0.2101 - accuracy: 0.7653\n",
      "Epoch 16/25\n",
      "12/12 [==============================] - 30s 2s/step - loss: 0.2002 - accuracy: 0.7917\n",
      "Epoch 17/25\n",
      "12/12 [==============================] - 31s 3s/step - loss: 0.4272 - accuracy: 0.7264\n",
      "Epoch 18/25\n",
      "12/12 [==============================] - 32s 3s/step - loss: 0.4207 - accuracy: 0.5498\n",
      "Epoch 19/25\n",
      "12/12 [==============================] - 32s 3s/step - loss: 0.3301 - accuracy: 0.7060\n",
      "Epoch 20/25\n",
      "12/12 [==============================] - 30s 2s/step - loss: 0.2164 - accuracy: 0.7864\n",
      "Epoch 21/25\n",
      "12/12 [==============================] - 31s 3s/step - loss: 0.1850 - accuracy: 0.8240\n",
      "Epoch 22/25\n",
      "12/12 [==============================] - 30s 3s/step - loss: 0.2214 - accuracy: 0.8042\n",
      "Epoch 23/25\n",
      "12/12 [==============================] - 30s 3s/step - loss: 0.1751 - accuracy: 0.8550\n",
      "Epoch 24/25\n",
      "12/12 [==============================] - 31s 3s/step - loss: 0.1584 - accuracy: 0.8655\n",
      "Epoch 25/25\n",
      "12/12 [==============================] - 31s 3s/step - loss: 0.1407 - accuracy: 0.8866\n"
     ]
    },
    {
     "data": {
      "text/plain": [
       "<keras.callbacks.History at 0x7fc34cf3d850>"
      ]
     },
     "execution_count": 116,
     "metadata": {},
     "output_type": "execute_result"
    }
   ],
   "source": [
    "\"\"\"#### Training the model\"\"\"\n",
    "\n",
    "imdb_model.fit(x_train_cnn, y_train_cnn, epochs=25, batch_size=128)"
   ]
  },
  {
   "cell_type": "markdown",
   "id": "b0beb660",
   "metadata": {},
   "source": [
    "# Testing on FOX News"
   ]
  },
  {
   "cell_type": "code",
   "execution_count": 117,
   "id": "e8594d14",
   "metadata": {},
   "outputs": [
    {
     "name": "stdout",
     "output_type": "stream",
     "text": [
      "50/50 [==============================] - 16s 315ms/step - loss: 0.3996 - accuracy: 0.5726\n",
      "RNN Test accuracy score: 0.5726010203361511\n",
      "8/8 - 10s - 10s/epoch - 1s/step\n",
      "              precision    recall  f1-score   support\n",
      "\n",
      "           0       0.00      0.00      0.00       114\n",
      "           1       0.00      0.00      0.00        48\n",
      "           2       0.00      0.00      0.00       118\n",
      "           3       0.77      0.67      0.72      1051\n",
      "           4       0.22      0.01      0.02       253\n",
      "\n",
      "   micro avg       0.74      0.45      0.56      1584\n",
      "   macro avg       0.20      0.14      0.15      1584\n",
      "weighted avg       0.54      0.45      0.48      1584\n",
      " samples avg       0.45      0.45      0.45      1584\n",
      "\n"
     ]
    },
    {
     "name": "stderr",
     "output_type": "stream",
     "text": [
      "/Users/ayushi_nirmal/opt/anaconda3/lib/python3.9/site-packages/sklearn/metrics/_classification.py:1318: UndefinedMetricWarning: Precision and F-score are ill-defined and being set to 0.0 in labels with no predicted samples. Use `zero_division` parameter to control this behavior.\n",
      "  _warn_prf(average, modifier, msg_start, len(result))\n",
      "/Users/ayushi_nirmal/opt/anaconda3/lib/python3.9/site-packages/sklearn/metrics/_classification.py:1318: UndefinedMetricWarning: Precision and F-score are ill-defined and being set to 0.0 in samples with no predicted labels. Use `zero_division` parameter to control this behavior.\n",
      "  _warn_prf(average, modifier, msg_start, len(result))\n"
     ]
    }
   ],
   "source": [
    "test_loss, test_acurracy = imdb_model.evaluate(x_test_fox, y_test_fox)\n",
    "\n",
    "print(\"RNN Test accuracy score: {}\".format(test_acurracy*100))\n",
    "\n",
    "y_pred=imdb_model.predict(x_test_fox, batch_size=200, verbose=2)\n",
    "report = classification_report(y_test_fox, y_pred.round())\n",
    "print(report)\n",
    "# print(classification_report(Test_Y_Reuters,test_acurracy))"
   ]
  },
  {
   "cell_type": "markdown",
   "id": "24d7d5ab",
   "metadata": {},
   "source": [
    "# Testing on Reuters News"
   ]
  },
  {
   "cell_type": "code",
   "execution_count": 118,
   "id": "ebb23716",
   "metadata": {},
   "outputs": [
    {
     "name": "stdout",
     "output_type": "stream",
     "text": [
      "42/42 [==============================] - 18s 423ms/step - loss: 0.7659 - accuracy: 0.2635\n",
      "RNN Test accuracy score: 0.2635135054588318\n",
      "7/7 - 8s - 8s/epoch - 1s/step\n",
      "              precision    recall  f1-score   support\n",
      "\n",
      "           0       0.02      0.00      0.01       299\n",
      "           1       0.00      0.00      0.00       107\n",
      "           2       0.00      0.00      0.00       213\n",
      "           3       0.39      0.61      0.47       441\n",
      "           4       0.00      0.00      0.00       272\n",
      "\n",
      "   micro avg       0.36      0.20      0.26      1332\n",
      "   macro avg       0.08      0.12      0.10      1332\n",
      "weighted avg       0.13      0.20      0.16      1332\n",
      " samples avg       0.20      0.20      0.20      1332\n",
      "\n"
     ]
    },
    {
     "name": "stderr",
     "output_type": "stream",
     "text": [
      "/Users/ayushi_nirmal/opt/anaconda3/lib/python3.9/site-packages/sklearn/metrics/_classification.py:1318: UndefinedMetricWarning: Precision and F-score are ill-defined and being set to 0.0 in labels with no predicted samples. Use `zero_division` parameter to control this behavior.\n",
      "  _warn_prf(average, modifier, msg_start, len(result))\n",
      "/Users/ayushi_nirmal/opt/anaconda3/lib/python3.9/site-packages/sklearn/metrics/_classification.py:1318: UndefinedMetricWarning: Precision and F-score are ill-defined and being set to 0.0 in samples with no predicted labels. Use `zero_division` parameter to control this behavior.\n",
      "  _warn_prf(average, modifier, msg_start, len(result))\n"
     ]
    }
   ],
   "source": [
    "test_loss, test_acurracy = imdb_model.evaluate(x_test_reuters, y_test_reuters)\n",
    "\n",
    "print(\"RNN Test accuracy score: {}\".format(test_acurracy*100))\n",
    "\n",
    "y_pred=imdb_model.predict(x_test_reuters, batch_size=200, verbose=2)\n",
    "report = classification_report(y_test_reuters, y_pred.round())\n",
    "print(report)\n",
    "# print(classification_report(Test_Y_Reuters,test_acurracy))"
   ]
  },
  {
   "cell_type": "markdown",
   "id": "5ee84e2b",
   "metadata": {},
   "source": [
    "# Training on FOX News"
   ]
  },
  {
   "cell_type": "code",
   "execution_count": 119,
   "id": "be440386",
   "metadata": {},
   "outputs": [],
   "source": [
    "Train_X_FOX, Train_Y_FOX = preprocessedData_Fox['clean_text'], preprocessedData_Fox['topicEncoded']\n",
    "Test_X_CNN, Test_Y_CNN = preprocessedData_CNN['clean_text'], preprocessedData_CNN['topicEncoded']\n",
    "Test_X_Reuters, Test_Y_Reuters = preprocessedData_Reuters['clean_text'], preprocessedData_Reuters['topicEncoded']\n",
    "x_train_fox, y_train_fox = padding(preprocessedData_Fox)\n",
    "x_test_cnn, y_test_cnn = padding(preprocessedData_CNN)\n",
    "x_test_reuters, y_test_reuters = padding(preprocessedData_Reuters)"
   ]
  },
  {
   "cell_type": "code",
   "execution_count": 120,
   "id": "5f3cc517",
   "metadata": {},
   "outputs": [],
   "source": [
    "word_size = 1000\n",
    "embed_size = 500\n",
    "imdb_model=tf.keras.Sequential()\n",
    "imdb_model.add(tf.keras.layers.Embedding(word_size, embed_size, input_shape=(x_train_fox.shape[1],)))\n",
    "imdb_model.add(tf.keras.layers.LSTM(units=128, activation='tanh'))\n",
    "# Output Layer\n",
    "imdb_model.add(tf.keras.layers.Dense(units=5, activation='sigmoid'))\n",
    "imdb_model.compile(optimizer='rmsprop', loss='binary_crossentropy', metrics=['accuracy'])"
   ]
  },
  {
   "cell_type": "code",
   "execution_count": 121,
   "id": "4c36c41c",
   "metadata": {},
   "outputs": [
    {
     "name": "stdout",
     "output_type": "stream",
     "text": [
      "Epoch 1/25\n",
      "13/13 [==============================] - 40s 3s/step - loss: 0.4486 - accuracy: 0.6174\n",
      "Epoch 2/25\n",
      "13/13 [==============================] - 34s 3s/step - loss: 0.3489 - accuracy: 0.6635\n",
      "Epoch 3/25\n",
      "13/13 [==============================] - 33s 3s/step - loss: 0.3484 - accuracy: 0.6635\n",
      "Epoch 4/25\n",
      "13/13 [==============================] - 47s 4s/step - loss: 0.3465 - accuracy: 0.6635\n",
      "Epoch 5/25\n",
      "13/13 [==============================] - 49s 4s/step - loss: 0.3469 - accuracy: 0.6635\n",
      "Epoch 6/25\n",
      "13/13 [==============================] - 37s 3s/step - loss: 0.3447 - accuracy: 0.6635\n",
      "Epoch 7/25\n",
      "13/13 [==============================] - 39s 3s/step - loss: 0.3429 - accuracy: 0.6635\n",
      "Epoch 8/25\n",
      "13/13 [==============================] - 34s 3s/step - loss: 0.3379 - accuracy: 0.6635\n",
      "Epoch 9/25\n",
      "13/13 [==============================] - 33s 3s/step - loss: 0.3274 - accuracy: 0.6635\n",
      "Epoch 10/25\n",
      "13/13 [==============================] - 35s 3s/step - loss: 0.3153 - accuracy: 0.6679\n",
      "Epoch 11/25\n",
      "13/13 [==============================] - 34s 3s/step - loss: 0.2877 - accuracy: 0.6907\n",
      "Epoch 12/25\n",
      "13/13 [==============================] - 34s 3s/step - loss: 0.2506 - accuracy: 0.7355\n",
      "Epoch 13/25\n",
      "13/13 [==============================] - 33s 3s/step - loss: 0.2305 - accuracy: 0.7753\n",
      "Epoch 14/25\n",
      "13/13 [==============================] - 36s 3s/step - loss: 0.3652 - accuracy: 0.7109\n",
      "Epoch 15/25\n",
      "13/13 [==============================] - 37s 3s/step - loss: 0.2815 - accuracy: 0.7399\n",
      "Epoch 16/25\n",
      "13/13 [==============================] - 36s 3s/step - loss: 0.4343 - accuracy: 0.6635\n",
      "Epoch 17/25\n",
      "13/13 [==============================] - 35s 3s/step - loss: 0.2947 - accuracy: 0.6673\n",
      "Epoch 18/25\n",
      "13/13 [==============================] - 33s 3s/step - loss: 0.2541 - accuracy: 0.7229\n",
      "Epoch 19/25\n",
      "13/13 [==============================] - 34s 3s/step - loss: 0.2311 - accuracy: 0.7614\n",
      "Epoch 20/25\n",
      "13/13 [==============================] - 32s 2s/step - loss: 0.1930 - accuracy: 0.7942\n",
      "Epoch 21/25\n",
      "13/13 [==============================] - 32s 2s/step - loss: 0.1900 - accuracy: 0.7898\n",
      "Epoch 22/25\n",
      "13/13 [==============================] - 34s 3s/step - loss: 0.1720 - accuracy: 0.8011\n",
      "Epoch 23/25\n",
      "13/13 [==============================] - 36s 3s/step - loss: 0.1634 - accuracy: 0.8150\n",
      "Epoch 24/25\n",
      "13/13 [==============================] - 41s 3s/step - loss: 0.1506 - accuracy: 0.8346\n",
      "Epoch 25/25\n",
      "13/13 [==============================] - 37s 3s/step - loss: 0.1349 - accuracy: 0.8529\n"
     ]
    },
    {
     "data": {
      "text/plain": [
       "<keras.callbacks.History at 0x7fc2a8db3e80>"
      ]
     },
     "execution_count": 121,
     "metadata": {},
     "output_type": "execute_result"
    }
   ],
   "source": [
    "\"\"\"#### Training the model\"\"\"\n",
    "\n",
    "imdb_model.fit(x_train_fox, y_train_fox, epochs=25, batch_size=128)"
   ]
  },
  {
   "cell_type": "markdown",
   "id": "9181c2b5",
   "metadata": {},
   "source": [
    "# Testing on CNN News"
   ]
  },
  {
   "cell_type": "code",
   "execution_count": 123,
   "id": "be643025",
   "metadata": {},
   "outputs": [
    {
     "name": "stdout",
     "output_type": "stream",
     "text": [
      "48/48 [==============================] - 13s 278ms/step - loss: 0.6265 - accuracy: 0.4845\n",
      "RNN Test accuracy score: 48.45089018344879\n",
      "8/8 - 9s - 9s/epoch - 1s/step\n",
      "              precision    recall  f1-score   support\n",
      "\n",
      "           0       0.00      0.00      0.00       237\n",
      "           1       0.00      0.00      0.00       113\n",
      "           2       0.00      0.00      0.00       151\n",
      "           3       0.58      0.78      0.66       832\n",
      "           4       0.17      0.07      0.09       184\n",
      "\n",
      "   micro avg       0.56      0.43      0.49      1517\n",
      "   macro avg       0.15      0.17      0.15      1517\n",
      "weighted avg       0.34      0.43      0.38      1517\n",
      " samples avg       0.43      0.43      0.43      1517\n",
      "\n"
     ]
    },
    {
     "name": "stderr",
     "output_type": "stream",
     "text": [
      "/Users/ayushi_nirmal/opt/anaconda3/lib/python3.9/site-packages/sklearn/metrics/_classification.py:1318: UndefinedMetricWarning: Precision and F-score are ill-defined and being set to 0.0 in labels with no predicted samples. Use `zero_division` parameter to control this behavior.\n",
      "  _warn_prf(average, modifier, msg_start, len(result))\n",
      "/Users/ayushi_nirmal/opt/anaconda3/lib/python3.9/site-packages/sklearn/metrics/_classification.py:1318: UndefinedMetricWarning: Precision and F-score are ill-defined and being set to 0.0 in samples with no predicted labels. Use `zero_division` parameter to control this behavior.\n",
      "  _warn_prf(average, modifier, msg_start, len(result))\n"
     ]
    }
   ],
   "source": [
    "test_loss, test_acurracy = imdb_model.evaluate(x_test_cnn, y_test_cnn)\n",
    "\n",
    "print(\"RNN Test accuracy score: {}\".format(test_acurracy*100))\n",
    "\n",
    "y_pred=imdb_model.predict(x_test_cnn, batch_size=200, verbose=2)\n",
    "report = classification_report(y_test_cnn, y_pred.round())\n",
    "print(report)\n",
    "# print(classification_report(Test_Y_Reuters,test_acurracy))"
   ]
  },
  {
   "cell_type": "markdown",
   "id": "707f042f",
   "metadata": {},
   "source": [
    "# Testing on Reuters News"
   ]
  },
  {
   "cell_type": "code",
   "execution_count": 124,
   "id": "a4c871c1",
   "metadata": {},
   "outputs": [
    {
     "name": "stdout",
     "output_type": "stream",
     "text": [
      "42/42 [==============================] - 13s 308ms/step - loss: 0.8277 - accuracy: 0.3348\n",
      "RNN Test accuracy score: 33.483484387397766\n",
      "7/7 - 8s - 8s/epoch - 1s/step\n",
      "              precision    recall  f1-score   support\n",
      "\n",
      "           0       0.50      0.00      0.01       299\n",
      "           1       0.00      0.00      0.00       107\n",
      "           2       0.00      0.00      0.00       213\n",
      "           3       0.38      0.78      0.51       441\n",
      "           4       0.14      0.02      0.04       272\n",
      "\n",
      "   micro avg       0.37      0.26      0.31      1332\n",
      "   macro avg       0.20      0.16      0.11      1332\n",
      "weighted avg       0.27      0.26      0.18      1332\n",
      " samples avg       0.26      0.26      0.26      1332\n",
      "\n"
     ]
    },
    {
     "name": "stderr",
     "output_type": "stream",
     "text": [
      "/Users/ayushi_nirmal/opt/anaconda3/lib/python3.9/site-packages/sklearn/metrics/_classification.py:1318: UndefinedMetricWarning: Precision and F-score are ill-defined and being set to 0.0 in labels with no predicted samples. Use `zero_division` parameter to control this behavior.\n",
      "  _warn_prf(average, modifier, msg_start, len(result))\n",
      "/Users/ayushi_nirmal/opt/anaconda3/lib/python3.9/site-packages/sklearn/metrics/_classification.py:1318: UndefinedMetricWarning: Precision and F-score are ill-defined and being set to 0.0 in samples with no predicted labels. Use `zero_division` parameter to control this behavior.\n",
      "  _warn_prf(average, modifier, msg_start, len(result))\n"
     ]
    }
   ],
   "source": [
    "test_loss, test_acurracy = imdb_model.evaluate(x_test_reuters, y_test_reuters)\n",
    "\n",
    "print(\"RNN Test accuracy score: {}\".format(test_acurracy*100))\n",
    "\n",
    "y_pred=imdb_model.predict(x_test_reuters, batch_size=200, verbose=2)\n",
    "report = classification_report(y_test_reuters, y_pred.round())\n",
    "print(report)\n",
    "# print(classification_report(Test_Y_Reuters,test_acurracy))"
   ]
  },
  {
   "cell_type": "markdown",
   "id": "c835f536",
   "metadata": {},
   "source": [
    "# Training on Reuters News"
   ]
  },
  {
   "cell_type": "code",
   "execution_count": 125,
   "id": "983e5d73",
   "metadata": {},
   "outputs": [],
   "source": [
    "Train_X_Reuters, Train_Y_Reuters = preprocessedData_Reuters['clean_text'], preprocessedData_Reuters['topicEncoded']\n",
    "Test_X_CNN, Test_Y_CNN = preprocessedData_CNN['clean_text'], preprocessedData_CNN['topicEncoded']\n",
    "Test_X_FOX, Test_Y_FOX = preprocessedData_Fox['clean_text'], preprocessedData_Fox['topicEncoded']\n",
    "x_train_reuters, y_train_reuters = padding(preprocessedData_Reuters)\n",
    "x_test_cnn, y_test_cnn = padding(preprocessedData_CNN)\n",
    "x_test_fox, y_test_fox = padding(preprocessedData_Fox)"
   ]
  },
  {
   "cell_type": "code",
   "execution_count": 126,
   "id": "5fd8958b",
   "metadata": {},
   "outputs": [],
   "source": [
    "word_size = 1000\n",
    "embed_size = 500\n",
    "imdb_model=tf.keras.Sequential()\n",
    "imdb_model.add(tf.keras.layers.Embedding(word_size, embed_size, input_shape=(x_train_reuters.shape[1],)))\n",
    "imdb_model.add(tf.keras.layers.LSTM(units=128, activation='tanh'))\n",
    "# Output Layer\n",
    "imdb_model.add(tf.keras.layers.Dense(units=5, activation='sigmoid'))\n",
    "imdb_model.compile(optimizer='rmsprop', loss='binary_crossentropy', metrics=['accuracy'])"
   ]
  },
  {
   "cell_type": "code",
   "execution_count": 127,
   "id": "7a102255",
   "metadata": {},
   "outputs": [
    {
     "name": "stdout",
     "output_type": "stream",
     "text": [
      "Epoch 1/25\n",
      "11/11 [==============================] - 37s 3s/step - loss: 0.5554 - accuracy: 0.2958\n",
      "Epoch 2/25\n",
      "11/11 [==============================] - 31s 3s/step - loss: 0.4798 - accuracy: 0.3101\n",
      "Epoch 3/25\n",
      "11/11 [==============================] - 30s 3s/step - loss: 0.4771 - accuracy: 0.3311\n",
      "Epoch 4/25\n",
      "11/11 [==============================] - 27s 2s/step - loss: 0.4737 - accuracy: 0.3326\n",
      "Epoch 5/25\n",
      "11/11 [==============================] - 27s 2s/step - loss: 0.4680 - accuracy: 0.3679\n",
      "Epoch 6/25\n",
      "11/11 [==============================] - 27s 2s/step - loss: 0.4602 - accuracy: 0.4144\n",
      "Epoch 7/25\n",
      "11/11 [==============================] - 26s 2s/step - loss: 0.4498 - accuracy: 0.4467\n",
      "Epoch 8/25\n",
      "11/11 [==============================] - 26s 2s/step - loss: 0.4284 - accuracy: 0.4820\n",
      "Epoch 9/25\n",
      "11/11 [==============================] - 26s 2s/step - loss: 0.4032 - accuracy: 0.5210\n",
      "Epoch 10/25\n",
      "11/11 [==============================] - 26s 2s/step - loss: 0.3647 - accuracy: 0.5863\n",
      "Epoch 11/25\n",
      "11/11 [==============================] - 30s 3s/step - loss: 0.3767 - accuracy: 0.6291\n",
      "Epoch 12/25\n",
      "11/11 [==============================] - 32s 3s/step - loss: 0.5611 - accuracy: 0.3514\n",
      "Epoch 13/25\n",
      "11/11 [==============================] - 27s 2s/step - loss: 0.4490 - accuracy: 0.3566\n",
      "Epoch 14/25\n",
      "11/11 [==============================] - 27s 2s/step - loss: 0.3839 - accuracy: 0.5541\n",
      "Epoch 15/25\n",
      "11/11 [==============================] - 28s 3s/step - loss: 0.3326 - accuracy: 0.6779\n",
      "Epoch 16/25\n",
      "11/11 [==============================] - 27s 2s/step - loss: 0.2905 - accuracy: 0.7455\n",
      "Epoch 17/25\n",
      "11/11 [==============================] - 27s 2s/step - loss: 0.2647 - accuracy: 0.7530\n",
      "Epoch 18/25\n",
      "11/11 [==============================] - 27s 2s/step - loss: 0.2258 - accuracy: 0.8101\n",
      "Epoch 19/25\n",
      "11/11 [==============================] - 26s 2s/step - loss: 0.2051 - accuracy: 0.8236\n",
      "Epoch 20/25\n",
      "11/11 [==============================] - 26s 2s/step - loss: 0.1881 - accuracy: 0.8378\n",
      "Epoch 21/25\n",
      "11/11 [==============================] - 27s 2s/step - loss: 0.1573 - accuracy: 0.8791\n",
      "Epoch 22/25\n",
      "11/11 [==============================] - 28s 3s/step - loss: 0.1319 - accuracy: 0.9009\n",
      "Epoch 23/25\n",
      "11/11 [==============================] - 27s 2s/step - loss: 0.1138 - accuracy: 0.9324\n",
      "Epoch 24/25\n",
      "11/11 [==============================] - 27s 2s/step - loss: 0.1086 - accuracy: 0.9257\n",
      "Epoch 25/25\n",
      "11/11 [==============================] - 27s 2s/step - loss: 0.0873 - accuracy: 0.9392\n"
     ]
    },
    {
     "data": {
      "text/plain": [
       "<keras.callbacks.History at 0x7fc2ab028610>"
      ]
     },
     "execution_count": 127,
     "metadata": {},
     "output_type": "execute_result"
    }
   ],
   "source": [
    "\"\"\"#### Training the model\"\"\"\n",
    "\n",
    "imdb_model.fit(x_train_reuters, y_train_reuters, epochs=25, batch_size=128)"
   ]
  },
  {
   "cell_type": "markdown",
   "id": "b93d7037",
   "metadata": {},
   "source": [
    "# Testing on CNN News"
   ]
  },
  {
   "cell_type": "code",
   "execution_count": 128,
   "id": "6c446340",
   "metadata": {},
   "outputs": [
    {
     "name": "stdout",
     "output_type": "stream",
     "text": [
      "48/48 [==============================] - 17s 356ms/step - loss: 0.7643 - accuracy: 0.3415\n",
      "RNN Test accuracy score: 34.14634168148041\n",
      "8/8 - 9s - 9s/epoch - 1s/step\n",
      "              precision    recall  f1-score   support\n",
      "\n",
      "           0       0.11      0.07      0.08       237\n",
      "           1       0.00      0.00      0.00       113\n",
      "           2       0.12      0.09      0.10       151\n",
      "           3       0.67      0.43      0.52       832\n",
      "           4       0.00      0.00      0.00       184\n",
      "\n",
      "   micro avg       0.42      0.25      0.32      1517\n",
      "   macro avg       0.18      0.12      0.14      1517\n",
      "weighted avg       0.40      0.25      0.31      1517\n",
      " samples avg       0.25      0.25      0.25      1517\n",
      "\n"
     ]
    },
    {
     "name": "stderr",
     "output_type": "stream",
     "text": [
      "/Users/ayushi_nirmal/opt/anaconda3/lib/python3.9/site-packages/sklearn/metrics/_classification.py:1318: UndefinedMetricWarning: Precision and F-score are ill-defined and being set to 0.0 in samples with no predicted labels. Use `zero_division` parameter to control this behavior.\n",
      "  _warn_prf(average, modifier, msg_start, len(result))\n"
     ]
    }
   ],
   "source": [
    "test_loss, test_acurracy = imdb_model.evaluate(x_test_cnn, y_test_cnn)\n",
    "\n",
    "print(\"RNN Test accuracy score: {}\".format(test_acurracy*100))\n",
    "\n",
    "y_pred=imdb_model.predict(x_test_cnn, batch_size=200, verbose=2)\n",
    "report = classification_report(y_test_cnn, y_pred.round())\n",
    "print(report)\n",
    "# print(classification_report(Test_Y_Reuters,test_acurracy))"
   ]
  },
  {
   "cell_type": "markdown",
   "id": "5b20d75c",
   "metadata": {},
   "source": [
    "# Testing on FOX News"
   ]
  },
  {
   "cell_type": "code",
   "execution_count": 129,
   "id": "3326226a",
   "metadata": {},
   "outputs": [
    {
     "name": "stdout",
     "output_type": "stream",
     "text": [
      "50/50 [==============================] - 14s 274ms/step - loss: 0.6823 - accuracy: 0.3813\n",
      "RNN Test accuracy score: 38.131314516067505\n",
      "8/8 - 9s - 9s/epoch - 1s/step\n",
      "              precision    recall  f1-score   support\n",
      "\n",
      "           0       0.07      0.10      0.08       114\n",
      "           1       0.00      0.00      0.00        48\n",
      "           2       0.07      0.05      0.06       118\n",
      "           3       0.73      0.42      0.53      1051\n",
      "           4       0.04      0.01      0.02       253\n",
      "\n",
      "   micro avg       0.49      0.29      0.37      1584\n",
      "   macro avg       0.18      0.12      0.14      1584\n",
      "weighted avg       0.50      0.29      0.37      1584\n",
      " samples avg       0.29      0.29      0.29      1584\n",
      "\n"
     ]
    },
    {
     "name": "stderr",
     "output_type": "stream",
     "text": [
      "/Users/ayushi_nirmal/opt/anaconda3/lib/python3.9/site-packages/sklearn/metrics/_classification.py:1318: UndefinedMetricWarning: Precision and F-score are ill-defined and being set to 0.0 in labels with no predicted samples. Use `zero_division` parameter to control this behavior.\n",
      "  _warn_prf(average, modifier, msg_start, len(result))\n",
      "/Users/ayushi_nirmal/opt/anaconda3/lib/python3.9/site-packages/sklearn/metrics/_classification.py:1318: UndefinedMetricWarning: Precision and F-score are ill-defined and being set to 0.0 in samples with no predicted labels. Use `zero_division` parameter to control this behavior.\n",
      "  _warn_prf(average, modifier, msg_start, len(result))\n"
     ]
    }
   ],
   "source": [
    "test_loss, test_acurracy = imdb_model.evaluate(x_test_fox, y_test_fox)\n",
    "\n",
    "print(\"RNN Test accuracy score: {}\".format(test_acurracy*100))\n",
    "\n",
    "y_pred=imdb_model.predict(x_test_fox, batch_size=200, verbose=2)\n",
    "report = classification_report(y_test_fox, y_pred.round())\n",
    "print(report)\n",
    "# print(classification_report(Test_Y_Reuters,test_acurracy))"
   ]
  },
  {
   "cell_type": "markdown",
   "id": "72048672",
   "metadata": {},
   "source": [
    "# Training and Testing on Reuters News"
   ]
  },
  {
   "cell_type": "code",
   "execution_count": 130,
   "id": "2dec23b6",
   "metadata": {},
   "outputs": [
    {
     "name": "stdout",
     "output_type": "stream",
     "text": [
      "42/42 [==============================] - 13s 305ms/step - loss: 0.0878 - accuracy: 0.9482\n",
      "RNN Test accuracy score: 94.81981992721558\n",
      "7/7 - 8s - 8s/epoch - 1s/step\n",
      "              precision    recall  f1-score   support\n",
      "\n",
      "           0       1.00      0.95      0.97       299\n",
      "           1       1.00      0.52      0.69       107\n",
      "           2       0.94      0.87      0.90       213\n",
      "           3       0.96      1.00      0.98       441\n",
      "           4       0.96      0.87      0.91       272\n",
      "\n",
      "   micro avg       0.97      0.90      0.93      1332\n",
      "   macro avg       0.97      0.84      0.89      1332\n",
      "weighted avg       0.97      0.90      0.93      1332\n",
      " samples avg       0.90      0.90      0.90      1332\n",
      "\n"
     ]
    },
    {
     "name": "stderr",
     "output_type": "stream",
     "text": [
      "/Users/ayushi_nirmal/opt/anaconda3/lib/python3.9/site-packages/sklearn/metrics/_classification.py:1318: UndefinedMetricWarning: Precision and F-score are ill-defined and being set to 0.0 in samples with no predicted labels. Use `zero_division` parameter to control this behavior.\n",
      "  _warn_prf(average, modifier, msg_start, len(result))\n"
     ]
    }
   ],
   "source": [
    "test_loss, test_acurracy = imdb_model.evaluate(x_train_reuters, y_train_reuters)\n",
    "\n",
    "print(\"RNN Test accuracy score: {}\".format(test_acurracy*100))\n",
    "\n",
    "y_pred=imdb_model.predict(x_train_reuters, batch_size=200, verbose=2)\n",
    "report = classification_report(y_train_reuters, y_pred.round())\n",
    "print(report)\n",
    "# print(classification_report(Test_Y_Reuters,test_acurracy))"
   ]
  },
  {
   "cell_type": "code",
   "execution_count": null,
   "id": "76b45b52",
   "metadata": {},
   "outputs": [],
   "source": []
  }
 ],
 "metadata": {
  "kernelspec": {
   "display_name": "Python 3.10.7 64-bit",
   "language": "python",
   "name": "python3"
  },
  "language_info": {
   "codemirror_mode": {
    "name": "ipython",
    "version": 3
   },
   "file_extension": ".py",
   "mimetype": "text/x-python",
   "name": "python",
   "nbconvert_exporter": "python",
   "pygments_lexer": "ipython3",
   "version": "3.10.7"
  },
  "vscode": {
   "interpreter": {
    "hash": "e3a430ce3e785eaed4e3af6085b2c31bfb94cdf8f087fec0080a3cf792164695"
   }
  }
 },
 "nbformat": 4,
 "nbformat_minor": 5
}
