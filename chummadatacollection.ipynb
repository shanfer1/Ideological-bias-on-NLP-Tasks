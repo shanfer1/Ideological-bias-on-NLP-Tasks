{
 "cells": [
  {
   "cell_type": "code",
   "execution_count": 33,
   "metadata": {},
   "outputs": [],
   "source": [
    "import pandas as pd\n",
    "import numpy as np\n",
    "import tweepy\n",
    "import time\n",
    "import nltk\n",
    "from sklearn.model_selection import train_test_split\n",
    "from sklearn.preprocessing import LabelEncoder\n",
    "import sklearn\n",
    "from sklearn.metrics import confusion_matrix\n",
    "import tensorflow as tf\n",
    "import transformers #huggingface transformers library"
   ]
  },
  {
   "cell_type": "code",
   "execution_count": 34,
   "metadata": {},
   "outputs": [],
   "source": [
    "def get_api():\n",
    "    api_key = '8RQ5xPiDzAg1duMVpj9pWYEdX'\n",
    "    api_key_secret = 'BqfcElqH5G6yAFHafuMQWO5ljp8Bosa402DzldWgc3mzCOSrSB'\n",
    "    access_token = '1570146620653850629-erndFgwUuLXuK8prEhhrpkqlBUICih'\n",
    "    access_token_secret = 'hwjy8IzsfECPVje0SAzdg3YorFifjAZbpBBgmLxBxnGVc'\n",
    "    auth = tweepy.OAuth1UserHandler(api_key, api_key_secret)\n",
    "    auth.set_access_token(access_token, access_token_secret)\n",
    "    return tweepy.API(auth,wait_on_rate_limit=True)"
   ]
  },
  {
   "cell_type": "code",
   "execution_count": 35,
   "metadata": {},
   "outputs": [],
   "source": [
    "topic_hashtags = {'health' : ['blood','hospitalized', 'mental health','medication','prescriptions','drug','food','covid-19','doctors','patients','hospitals','respitatory', 'smoking weed','tobbaco','smocker','ebola','virus','bacteria','covid'], 'politics': ['President', 'Trump','Biden','White House','politics','governance','Obama','Bush','Democratic','presidency','republicans','Democrats','legistative','prime minister'], 'sports':['Messi', 'Ronaldo' ,'World cup','soccer','Premier League','FIFA', 'world champion','NBA' ,'sports car',\"Shaquille O'Neal\",'basketball'],'film':['filmmaking','film','movie','screenwriter','Academy Award-winning','TV Special'],'corporatenews':['Airbnb','amazon','CEO','company', 'Disney World','Walmart', 'HBO','layoffs']}"
   ]
  },
  {
   "cell_type": "code",
   "execution_count": 46,
   "metadata": {},
   "outputs": [],
   "source": [
    "def make_queries(username, words,start_date,end_date):\n",
    "    query = 'from:'+username+ \" \"\n",
    "    res=''\n",
    "    for y in words:\n",
    "        res=res+y+ ' OR '\n",
    "    res=res[:len(res)-4]\n",
    "    query += res+\" since:\"+start_date + \" until:\"+end_date\n",
    "    return \"'\"+query+\"'\""
   ]
  },
  {
   "cell_type": "code",
   "execution_count": 47,
   "metadata": {},
   "outputs": [],
   "source": [
    "cols=['screenName','description','location','text']"
   ]
  },
  {
   "cell_type": "code",
   "execution_count": 48,
   "metadata": {},
   "outputs": [],
   "source": [
    "def collect_data(username,start_date,end_date,topic,words):\n",
    "    api = get_api()\n",
    "    db = pd.DataFrame(columns=cols, dtype=object)\n",
    "    res = make_queries(username, words,start_date,end_date)\n",
    "    print(res)\n",
    "    tweets = tweepy.Cursor(api.search_tweets,q=res, lang=\"en\",tweet_mode='extended').items(4000)\n",
    "    for tweet in tweets:\n",
    "        print(tweet)\n",
    "        username = tweet.user.screen_name\n",
    "        description = tweet.user.description\n",
    "        location = tweet.user.location\n",
    "        tweet_text = tweet.full_text\n",
    "        topic_classified = topic\n",
    "        ith_tweet = [username, description,location, tweet_text, topic_classified]\n",
    "        db.loc[len(db)] = ith_tweet\n",
    "    return db"
   ]
  },
  {
   "cell_type": "code",
   "execution_count": 49,
   "metadata": {},
   "outputs": [],
   "source": [
    "dates=[('2010-01-01','2010-12-31'),('2011-01-01','2011-12-31'),('2012-01-01','2012-12-31'),('2013-01-01','2013-12-31'),('2014-01-01','2014-12-31'),('2015-01-01','2015-12-31'),('2016-01-01','2016-12-31'),('2017-01-01','2017-12-31'),('2018-01-01','2018-12-31'),('2019-01-01','2019-12-31'),('2020-01-01','2020-12-31'),('2021-01-01','2021-12-31'),('2022-01-01','2022-11-01')]"
   ]
  },
  {
   "cell_type": "code",
   "execution_count": 50,
   "metadata": {},
   "outputs": [
    {
     "name": "stdout",
     "output_type": "stream",
     "text": [
      "'from:CNN blood OR hospitalized OR mental health OR medication OR prescriptions OR drug OR food OR covid-19 OR doctors OR patients OR hospitals OR respitatory OR smoking weed OR tobbaco OR smocker OR ebola OR virus OR bacteria OR covid since:2010-01-01 until:2010-12-31'\n",
      "'from:CNN blood OR hospitalized OR mental health OR medication OR prescriptions OR drug OR food OR covid-19 OR doctors OR patients OR hospitals OR respitatory OR smoking weed OR tobbaco OR smocker OR ebola OR virus OR bacteria OR covid since:2011-01-01 until:2011-12-31'\n",
      "'from:CNN blood OR hospitalized OR mental health OR medication OR prescriptions OR drug OR food OR covid-19 OR doctors OR patients OR hospitals OR respitatory OR smoking weed OR tobbaco OR smocker OR ebola OR virus OR bacteria OR covid since:2012-01-01 until:2012-12-31'\n",
      "'from:CNN blood OR hospitalized OR mental health OR medication OR prescriptions OR drug OR food OR covid-19 OR doctors OR patients OR hospitals OR respitatory OR smoking weed OR tobbaco OR smocker OR ebola OR virus OR bacteria OR covid since:2013-01-01 until:2013-12-31'\n",
      "'from:CNN blood OR hospitalized OR mental health OR medication OR prescriptions OR drug OR food OR covid-19 OR doctors OR patients OR hospitals OR respitatory OR smoking weed OR tobbaco OR smocker OR ebola OR virus OR bacteria OR covid since:2014-01-01 until:2014-12-31'\n",
      "'from:CNN blood OR hospitalized OR mental health OR medication OR prescriptions OR drug OR food OR covid-19 OR doctors OR patients OR hospitals OR respitatory OR smoking weed OR tobbaco OR smocker OR ebola OR virus OR bacteria OR covid since:2015-01-01 until:2015-12-31'\n",
      "'from:CNN blood OR hospitalized OR mental health OR medication OR prescriptions OR drug OR food OR covid-19 OR doctors OR patients OR hospitals OR respitatory OR smoking weed OR tobbaco OR smocker OR ebola OR virus OR bacteria OR covid since:2016-01-01 until:2016-12-31'\n",
      "'from:CNN blood OR hospitalized OR mental health OR medication OR prescriptions OR drug OR food OR covid-19 OR doctors OR patients OR hospitals OR respitatory OR smoking weed OR tobbaco OR smocker OR ebola OR virus OR bacteria OR covid since:2017-01-01 until:2017-12-31'\n",
      "'from:CNN blood OR hospitalized OR mental health OR medication OR prescriptions OR drug OR food OR covid-19 OR doctors OR patients OR hospitals OR respitatory OR smoking weed OR tobbaco OR smocker OR ebola OR virus OR bacteria OR covid since:2018-01-01 until:2018-12-31'\n",
      "'from:CNN blood OR hospitalized OR mental health OR medication OR prescriptions OR drug OR food OR covid-19 OR doctors OR patients OR hospitals OR respitatory OR smoking weed OR tobbaco OR smocker OR ebola OR virus OR bacteria OR covid since:2019-01-01 until:2019-12-31'\n",
      "'from:CNN blood OR hospitalized OR mental health OR medication OR prescriptions OR drug OR food OR covid-19 OR doctors OR patients OR hospitals OR respitatory OR smoking weed OR tobbaco OR smocker OR ebola OR virus OR bacteria OR covid since:2020-01-01 until:2020-12-31'\n",
      "'from:CNN blood OR hospitalized OR mental health OR medication OR prescriptions OR drug OR food OR covid-19 OR doctors OR patients OR hospitals OR respitatory OR smoking weed OR tobbaco OR smocker OR ebola OR virus OR bacteria OR covid since:2021-01-01 until:2021-12-31'\n",
      "'from:CNN blood OR hospitalized OR mental health OR medication OR prescriptions OR drug OR food OR covid-19 OR doctors OR patients OR hospitals OR respitatory OR smoking weed OR tobbaco OR smocker OR ebola OR virus OR bacteria OR covid since:2022-01-01 until:2022-11-01'\n"
     ]
    }
   ],
   "source": [
    "df_health= pd.DataFrame(columns=cols, dtype=object)\n",
    "topic='health'\n",
    "for x in dates:\n",
    "  temp=collect_data('CNN',x[0],x[1],topic,topic_hashtags[topic])\n",
    "  df_health=pd.concat([df_health,temp])"
   ]
  },
  {
   "cell_type": "code",
   "execution_count": 51,
   "metadata": {},
   "outputs": [
    {
     "data": {
      "text/plain": [
       "(0, 4)"
      ]
     },
     "execution_count": 51,
     "metadata": {},
     "output_type": "execute_result"
    }
   ],
   "source": [
    "df_health.shape"
   ]
  },
  {
   "cell_type": "code",
   "execution_count": null,
   "metadata": {},
   "outputs": [],
   "source": []
  }
 ],
 "metadata": {
  "kernelspec": {
   "display_name": "Python 3.10.7 64-bit",
   "language": "python",
   "name": "python3"
  },
  "language_info": {
   "codemirror_mode": {
    "name": "ipython",
    "version": 3
   },
   "file_extension": ".py",
   "mimetype": "text/x-python",
   "name": "python",
   "nbconvert_exporter": "python",
   "pygments_lexer": "ipython3",
   "version": "3.10.7"
  },
  "orig_nbformat": 4,
  "vscode": {
   "interpreter": {
    "hash": "e3a430ce3e785eaed4e3af6085b2c31bfb94cdf8f087fec0080a3cf792164695"
   }
  }
 },
 "nbformat": 4,
 "nbformat_minor": 2
}
